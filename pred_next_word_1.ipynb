{
 "cells": [
  {
   "cell_type": "code",
   "execution_count": null,
   "metadata": {
    "id": "bR3ilbEN79Ut"
   },
   "outputs": [],
   "source": []
  },
  {
   "cell_type": "code",
   "execution_count": 1,
   "metadata": {
    "colab": {
     "base_uri": "https://localhost:8080/"
    },
    "executionInfo": {
     "elapsed": 26204,
     "status": "ok",
     "timestamp": 1744114144579,
     "user": {
      "displayName": "Phalguna",
      "userId": "04043413094749597201"
     },
     "user_tz": -330
    },
    "id": "ySQEj2jO8IsB",
    "outputId": "c459d7dc-842e-44dc-cae4-d52898155d1a"
   },
   "outputs": [
    {
     "name": "stdout",
     "output_type": "stream",
     "text": [
      "Mounted at /content/drive\n"
     ]
    }
   ],
   "source": [
    "from google.colab import drive\n",
    "drive.mount('/content/drive')"
   ]
  },
  {
   "cell_type": "code",
   "execution_count": 2,
   "metadata": {
    "colab": {
     "base_uri": "https://localhost:8080/",
     "height": 211
    },
    "executionInfo": {
     "elapsed": 115,
     "status": "error",
     "timestamp": 1744114212951,
     "user": {
      "displayName": "Phalguna",
      "userId": "04043413094749597201"
     },
     "user_tz": -330
    },
    "id": "Nvj_xfXeTjHi",
    "outputId": "72facf12-e31e-45c7-94f6-7f6b0c6233f6"
   },
   "outputs": [
    {
     "ename": "FileNotFoundError",
     "evalue": "[Errno 2] No such file or directory: '/content/pred_next_word.ipynb'",
     "output_type": "error",
     "traceback": [
      "\u001b[0;31m---------------------------------------------------------------------------\u001b[0m",
      "\u001b[0;31mFileNotFoundError\u001b[0m                         Traceback (most recent call last)",
      "\u001b[0;32m<ipython-input-2-1216e3560b77>\u001b[0m in \u001b[0;36m<cell line: 0>\u001b[0;34m()\u001b[0m\n\u001b[1;32m      6\u001b[0m \u001b[0;34m\u001b[0m\u001b[0m\n\u001b[1;32m      7\u001b[0m \u001b[0;31m# Load and clean the notebook\u001b[0m\u001b[0;34m\u001b[0m\u001b[0;34m\u001b[0m\u001b[0m\n\u001b[0;32m----> 8\u001b[0;31m \u001b[0;32mwith\u001b[0m \u001b[0mopen\u001b[0m\u001b[0;34m(\u001b[0m\u001b[0minput_path\u001b[0m\u001b[0;34m,\u001b[0m \u001b[0;34m'r'\u001b[0m\u001b[0;34m)\u001b[0m \u001b[0;32mas\u001b[0m \u001b[0mf\u001b[0m\u001b[0;34m:\u001b[0m\u001b[0;34m\u001b[0m\u001b[0;34m\u001b[0m\u001b[0m\n\u001b[0m\u001b[1;32m      9\u001b[0m     \u001b[0mnb\u001b[0m \u001b[0;34m=\u001b[0m \u001b[0mnbformat\u001b[0m\u001b[0;34m.\u001b[0m\u001b[0mread\u001b[0m\u001b[0;34m(\u001b[0m\u001b[0mf\u001b[0m\u001b[0;34m,\u001b[0m \u001b[0mas_version\u001b[0m\u001b[0;34m=\u001b[0m\u001b[0;36m4\u001b[0m\u001b[0;34m)\u001b[0m\u001b[0;34m\u001b[0m\u001b[0;34m\u001b[0m\u001b[0m\n\u001b[1;32m     10\u001b[0m \u001b[0;34m\u001b[0m\u001b[0m\n",
      "\u001b[0;31mFileNotFoundError\u001b[0m: [Errno 2] No such file or directory: '/content/pred_next_word.ipynb'"
     ]
    }
   ],
   "source": [
    "import nbformat\n",
    "\n",
    "# Path to your current notebook (change this if needed)\n",
    "input_path = '/content/drive/MyDrive/Colab_Notebooks/pred_next_word/pred_next_word.ipynb'\n",
    "output_path = '/content/drive/MyDrive/Colab_Notebooks/pred_next_word/pred_next_wyour_notebook_clean.ipynb'\n",
    "\n",
    "# Load and clean the notebook\n",
    "with open(input_path, 'r') as f:\n",
    "    nb = nbformat.read(f, as_version=4)\n",
    "\n",
    "# Remove widget metadata if present\n",
    "if 'widgets' in nb['metadata']:\n",
    "    del nb['metadata']['widgets']\n",
    "\n",
    "# Save the cleaned notebook\n",
    "with open(output_path, 'w') as f:\n",
    "    nbformat.write(nb, f)\n",
    "\n",
    "print(f\"Clean version saved to {output_path}\")"
   ]
  },
  {
   "cell_type": "code",
   "execution_count": null,
   "metadata": {
    "colab": {
     "base_uri": "https://localhost:8080/"
    },
    "executionInfo": {
     "elapsed": 1363,
     "status": "ok",
     "timestamp": 1742291217414,
     "user": {
      "displayName": "Phalguna",
      "userId": "04043413094749597201"
     },
     "user_tz": -330
    },
    "id": "ykMjxcoK8JLa",
    "outputId": "7c3df8ca-d1c0-4a98-c4cf-74f426ba9ca4"
   },
   "outputs": [
    {
     "name": "stderr",
     "output_type": "stream",
     "text": [
      "<ipython-input-4-9726596cf16c>:6: DeprecationWarning: pkg_resources is deprecated as an API. See https://setuptools.pypa.io/en/latest/pkg_resources.html\n",
      "  import pkg_resources\n"
     ]
    }
   ],
   "source": [
    "import string\n",
    "import nltk\n",
    "import re\n",
    "import string\n",
    "from nltk.corpus import stopwords\n",
    "import pkg_resources\n",
    "import pickle\n",
    "import nltk\n",
    "import re, string, json\n",
    "from tqdm.notebook import tqdm\n",
    "from nltk.tokenize import word_tokenize"
   ]
  },
  {
   "cell_type": "code",
   "execution_count": null,
   "metadata": {
    "id": "oEAcGcF9_1NE"
   },
   "outputs": [],
   "source": [
    "from tensorflow import keras\n",
    "from numpy import array\n",
    "from pickle import dump\n",
    "from tensorflow.keras.preprocessing.text import Tokenizer\n",
    "from tensorflow.keras.utils import to_categorical\n",
    "from tensorflow.keras.models import Sequential\n",
    "from tensorflow.keras.layers import Dense\n",
    "from tensorflow.keras.layers import LSTM\n",
    "from tensorflow.keras.layers import Embedding\n",
    "\n",
    "from random import randint\n",
    "from pickle import load\n",
    "from tensorflow.keras.models import load_model\n",
    "from tensorflow.keras.preprocessing.sequence import pad_sequences"
   ]
  },
  {
   "cell_type": "code",
   "execution_count": null,
   "metadata": {
    "id": "NvV68ri2QOfY"
   },
   "outputs": [],
   "source": [
    "def load_doc(filename):\n",
    "  file=open(filename,'r')\n",
    "  text=file.read()\n",
    "  file.close()\n",
    "  return text\n"
   ]
  },
  {
   "cell_type": "code",
   "execution_count": null,
   "metadata": {
    "id": "Yd-p3Z5TV4pc"
   },
   "outputs": [],
   "source": [
    "def tokenize_twitter(sentences):\n",
    "  tokenized_sentences=[]\n",
    "  for sentence in tqdm(sentences):\n",
    "    sentence=cleanhtml(sentence)\n",
    "    sentence=_replace_urls(sentence)\n",
    "    sentence=remove_email(sentence)\n",
    "    sentence=re.sub(r'[^a-zA-Z]',' ',sentence)\n",
    "    sentence=sentence.lower()\n",
    "    sentence=misc(sentence)\n",
    "    tokenized_sentences.append(sentence)\n",
    "  return tokenized_sentences"
   ]
  },
  {
   "cell_type": "code",
   "execution_count": null,
   "metadata": {
    "id": "OjaADS6HC-7E"
   },
   "outputs": [],
   "source": [
    "def cleanhtml(raw_html):\n",
    "  cleanr=re.compile('<.*?>')\n",
    "  cleantext=re.sub(cleanr,'',raw_html)\n",
    "  return cleantext\n",
    "\n",
    "def _replace_urls(data):\n",
    "  url_pattern=re.compile(r'https?://\\S+|www\\.\\S+')\n",
    "  data=url_pattern.sub(r'',data)\n",
    "  return data\n",
    "\n",
    "def remove_email(data):\n",
    "  data = re.sub('\\S*@\\S*\\s?', '', data)\n",
    "  return data\n",
    "\n",
    "def misc(data):\n",
    "  data = re.sub('\\s+',' ', data)\n",
    "  data = re.sub(\"\\'\", \"\", data)\n",
    "  data = re.sub(\"ww+\", \"\", data)\n",
    "  MAYBE_ROMAN = re.compile(r'(\\b[MDCLXVI]+\\b)(\\.)?', re.I)\n",
    "  data = re.sub (MAYBE_ROMAN, \"\", data)\n",
    "  return data"
   ]
  },
  {
   "cell_type": "code",
   "execution_count": null,
   "metadata": {
    "id": "-9DoOaSTQSoz"
   },
   "outputs": [],
   "source": [
    "def littleCleaning (sentences):\n",
    "  print(\"Starting cleaning Process\")\n",
    "  ret_list = []\n",
    "  for sentence in sentences:\n",
    "    words =sentence.split(\" \")\n",
    "    if len(words) > 5:\n",
    "      ret_list.append(sentence)\n",
    "    else:\n",
    "      continue\n",
    "  return ret_list"
   ]
  },
  {
   "cell_type": "code",
   "execution_count": null,
   "metadata": {
    "colab": {
     "base_uri": "https://localhost:8080/"
    },
    "executionInfo": {
     "elapsed": 107,
     "status": "ok",
     "timestamp": 1742291221937,
     "user": {
      "displayName": "Phalguna",
      "userId": "04043413094749597201"
     },
     "user_tz": -330
    },
    "id": "XPCSIG35SQbN",
    "outputId": "9ac0becc-d39d-460f-c72d-f9198e015193"
   },
   "outputs": [
    {
     "name": "stderr",
     "output_type": "stream",
     "text": [
      "[nltk_data] Downloading package wordnet to /root/nltk_data...\n",
      "[nltk_data]   Package wordnet is already up-to-date!\n",
      "[nltk_data] Downloading package punkt to /root/nltk_data...\n",
      "[nltk_data]   Package punkt is already up-to-date!\n"
     ]
    },
    {
     "data": {
      "text/plain": [
       "True"
      ]
     },
     "execution_count": 10,
     "metadata": {},
     "output_type": "execute_result"
    }
   ],
   "source": [
    "nltk.download('wordnet')\n",
    "nltk.download('punkt')"
   ]
  },
  {
   "cell_type": "code",
   "execution_count": null,
   "metadata": {
    "colab": {
     "base_uri": "https://localhost:8080/"
    },
    "executionInfo": {
     "elapsed": 24,
     "status": "ok",
     "timestamp": 1742291222332,
     "user": {
      "displayName": "Phalguna",
      "userId": "04043413094749597201"
     },
     "user_tz": -330
    },
    "id": "-66DqsadSgds",
    "outputId": "5c6a8933-232f-4c16-e439-f52e61349f4c"
   },
   "outputs": [
    {
     "name": "stdout",
     "output_type": "stream",
     "text": [
      "length is : : 388072\n"
     ]
    }
   ],
   "source": [
    "\n",
    "path = '/content/drive/MyDrive/Colab_Notebooks/pred_next_word/republic.txt'\n",
    "text=open(path).read().lower()\n",
    "print('length is : :', len(text))\n"
   ]
  },
  {
   "cell_type": "code",
   "execution_count": null,
   "metadata": {
    "colab": {
     "base_uri": "https://localhost:8080/"
    },
    "executionInfo": {
     "elapsed": 99,
     "status": "ok",
     "timestamp": 1742291223145,
     "user": {
      "displayName": "Phalguna",
      "userId": "04043413094749597201"
     },
     "user_tz": -330
    },
    "id": "fxTqkk0YSzZn",
    "outputId": "b3f7a11b-e62a-40a3-d5e0-ff2c422a8f92"
   },
   "outputs": [
    {
     "data": {
      "text/plain": [
       "['\\ufeff    \\nthis ebook is for the use of anyone anywhere in the united states and\\nmost other parts of the world at no cost and with almost no restrictions\\nwhatsoever',\n",
       " ' you may copy it, give it away or re-use it under the terms\\nof the project gutenberg license included with this ebook or online\\nat www',\n",
       " 'gutenberg',\n",
       " 'org',\n",
       " ' if you are not located in the united states,\\nyou will have to check the laws of the country where you are located\\nbefore using this ebook',\n",
       " '\\n\\n\\nmost of the adventures recorded in this book really occurred; one or two\\nwere experiences of my own, the rest those of boys who were schoolmates\\nof mine',\n",
       " ' huck finn is drawn from life; tom sawyer also, but not from an\\nindividual—he is a combination of the characteristics of three boys whom\\ni knew, and therefore belongs to the composite order of architecture',\n",
       " '\\n\\nthe odd superstitions touched upon were all prevalent among children and\\nslaves in the west at the period of this story—that is to say, thirty or\\nforty years ago',\n",
       " '\\n\\nalthough my book is intended mainly for the entertainment of boys and\\ngirls, i hope it will not be shunned by men and women on that account,\\nfor part of my plan has been to try to pleasantly remind adults of what\\nthey once were themselves, and of how they felt and thought and talked,\\nand what queer enterprises they sometimes engaged in',\n",
       " '\\n\\n\\n“tom!”\\n\\nno answer',\n",
       " '\\n\\n“tom!”\\n\\nno answer',\n",
       " '\\n\\n“what’s gone with that boy, i wonder? you tom!”\\n\\nno answer',\n",
       " '\\n\\nthe old lady pulled her spectacles down and looked over them about the\\nroom; then she put them up and looked out under them',\n",
       " ' she seldom or\\nnever looked _through_ them for so small a thing as a boy; they were\\nher state pair, the pride of her heart, and were built for “style,” not\\nservice—she could have seen through a pair of stove-lids just as well',\n",
       " '\\nshe looked perplexed for a moment, and then said, not fiercely, but\\nstill loud enough for the furniture to hear:\\n\\n“well, i lay if i get hold of you i’ll—”\\n\\nshe did not finish, for by this time she was bending down and punching\\nunder the bed with the broom, and so she needed breath to punctuate the\\npunches with',\n",
       " ' she resurrected nothing but the cat',\n",
       " '\\n\\n“i never did see the beat of that boy!”\\n\\nshe went to the open door and stood in it and looked out among the\\ntomato vines and “jimpson” weeds that constituted the garden',\n",
       " ' no tom',\n",
       " ' so\\nshe lifted up her voice at an angle calculated for distance and shouted:\\n\\n“y-o-u-u tom!”\\n\\nthere was a slight noise behind her and she turned just in time to seize\\na small boy by the slack of his roundabout and arrest his flight',\n",
       " '\\n\\n“there! i might ’a’ thought of that closet',\n",
       " ' what you been doing in\\nthere?”\\n\\n“nothing',\n",
       " '”\\n\\n“nothing! look at your hands',\n",
       " ' and look at your mouth',\n",
       " ' what _is_ that\\ntruck?”\\n\\n“i don’t know, aunt',\n",
       " '”\\n\\n“well, i know',\n",
       " ' it’s jam—that’s what it is',\n",
       " ' forty times i’ve said if you\\ndidn’t let that jam alone i’d skin you',\n",
       " ' hand me that switch',\n",
       " '”\\n\\nthe switch hovered in the air—the peril was desperate—\\n\\n“my! look behind you, aunt!”\\n\\nthe old lady whirled round, and snatched her skirts out of danger',\n",
       " '\\nthe lad fled on the instant, scrambled up the high board-fence, and\\ndisappeared over it',\n",
       " '\\n\\nhis aunt polly stood surprised a moment, and then broke into a gentle\\nlaugh',\n",
       " '\\n\\n“hang the boy, can’t i never learn anything? ain’t he played me tricks\\nenough like that for me to be looking out for him by this time? but old\\nfools is the biggest fools there is',\n",
       " ' can’t learn an old dog new tricks,\\nas the saying is',\n",
       " ' but my goodness, he never plays them alike, two days,\\nand how is a body to know what’s coming? he ’pears to know just how long\\nhe can torment me before i get my dander up, and he knows if he can make\\nout to put me off for a minute or make me laugh, it’s all down again and\\ni can’t hit him a lick',\n",
       " ' i ain’t doing my duty by that boy, and that’s\\nthe lord’s truth, goodness knows',\n",
       " ' spare the rod and spile the child, as\\nthe good book says',\n",
       " ' i’m a laying up sin and suffering for us both, i\\nknow',\n",
       " ' he’s full of the old scratch, but laws-a-me! he’s my own dead\\nsister’s boy, poor thing, and i ain’t got the heart to lash him,\\nsomehow',\n",
       " ' every time i let him off, my conscience does hurt me so, and\\nevery time i hit him my old heart most breaks',\n",
       " ' well-a-well, man that is\\nborn of woman is of few days and full of trouble, as the scripture says,\\nand i reckon it’s so',\n",
       " ' he’ll play hookey this evening,[*] and i’ll just\\nbe obleeged to make him work, tomorrow, to punish him',\n",
       " ' it’s mighty hard\\nto make him work saturdays, when all the boys is having holiday, but he\\nhates work more than he hates anything else, and i’ve _got_ to do some\\nof my duty by him, or i’ll be the ruination of the child',\n",
       " '”\\n\\n[*] southwestern for “afternoon”\\n\\ntom did play hookey, and he had a very good time',\n",
       " ' he got back home\\nbarely in season to help jim, the small colored boy, saw next-day’s wood\\nand split the kindlings before supper—at least he was there in time\\nto tell his adventures to jim while jim did three-fourths of the work',\n",
       " '\\ntom’s younger brother (or rather half-brother) sid was already through\\nwith his part of the work (picking up chips), for he was a quiet boy,\\nand had no adventurous, trouble-some ways',\n",
       " '\\n\\nwhile tom was eating his supper, and stealing sugar as opportunity\\noffered, aunt polly asked him questions that were full of guile, and\\nvery deep—for she wanted to trap him into damaging revealments',\n",
       " ' like\\nmany other simple-hearted souls, it was her pet vanity to believe she\\nwas endowed with a talent for dark and mysterious diplomacy, and she\\nloved to contemplate her most transparent devices as marvels of low\\ncunning',\n",
       " ' said she:\\n\\n“tom, it was middling warm in school, warn’t it?”\\n\\n“yes’m',\n",
       " '”\\n\\n“powerful warm, warn’t it?”\\n\\n“yes’m',\n",
       " '”\\n\\n“didn’t you want to go in a-swimming, tom?”\\n\\na bit of a scare shot through tom—a touch of uncomfortable suspicion',\n",
       " ' he\\nsearched aunt polly’s face, but it told him nothing',\n",
       " ' so he said:\\n\\n“no’m—well, not very much',\n",
       " '”\\n\\nthe old lady reached out her hand and felt tom’s shirt, and said:\\n\\n“but you ain’t too warm now, though',\n",
       " '” and it flattered her to reflect\\nthat she had discovered that the shirt was dry without anybody knowing\\nthat that was what she had in her mind',\n",
       " ' but in spite of her, tom knew\\nwhere the wind lay, now',\n",
       " ' so he forestalled what might be the next move:\\n\\n“some of us pumped on our heads—mine’s damp yet',\n",
       " ' see?”\\n\\naunt polly was vexed to think she had overlooked that bit of\\ncircumstantial evidence, and missed a trick',\n",
       " ' then she had a new\\ninspiration:\\n\\n“tom, you didn’t have to undo your shirt collar where i sewed it, to\\npump on your head, did you? unbutton your jacket!”\\n\\nthe trouble vanished out of tom’s face',\n",
       " ' he opened his jacket',\n",
       " ' his shirt\\ncollar was securely sewed',\n",
       " '\\n\\n“bother! well, go ’long with you',\n",
       " ' i’d made sure you’d played hookey\\nand been a-swimming',\n",
       " ' but i forgive ye, tom',\n",
       " ' i reckon you’re a kind of a\\nsinged cat, as the saying is—better’n you look',\n",
       " ' _this_ time',\n",
       " '”\\n\\nshe was half sorry her sagacity had miscarried, and half glad that tom\\nhad stumbled into obedient conduct for once',\n",
       " '\\n\\nbut sidney said:\\n\\n“well, now, if i didn’t think you sewed his collar with white thread,\\nbut it’s black',\n",
       " '”\\n\\n“why, i did sew it with white! tom!”\\n\\nbut tom did not wait for the rest',\n",
       " ' as he went out at the door he said:\\n\\n“siddy, i’ll lick you for that',\n",
       " '”\\n\\nin a safe place tom examined two large needles which were thrust into\\nthe lapels of his jacket, and had thread bound about them—one needle\\ncarried white thread and the other black',\n",
       " ' he said:\\n\\n“she’d never noticed if it hadn’t been for sid',\n",
       " ' confound it! sometimes\\nshe sews it with white, and sometimes she sews it with black',\n",
       " ' i wish to\\ngee-miny she’d stick to one or t’other—i can’t keep the run of ’em',\n",
       " ' but\\ni bet you i’ll lam sid for that',\n",
       " ' i’ll learn him!”\\n\\nhe was not the model boy of the village',\n",
       " ' he knew the model boy very well\\nthough—and loathed him',\n",
       " '\\n\\nwithin two minutes, or even less, he had forgotten all his troubles',\n",
       " ' not\\nbecause his troubles were one whit less heavy and bitter to him than a\\nman’s are to a man, but because a new and powerful interest bore\\nthem down and drove them out of his mind for the time—just as men’s\\nmisfortunes are forgotten in the excitement of new enterprises',\n",
       " ' this new\\ninterest was a valued novelty in whistling, which he had just acquired\\nfrom a negro, and he was suffering to practise it undisturbed',\n",
       " ' it\\nconsisted in a peculiar bird-like turn, a sort of liquid warble,\\nproduced by touching the tongue to the roof of the mouth at short\\nintervals in the midst of the music—the reader probably remembers how to\\ndo it, if he has ever been a boy',\n",
       " ' diligence and attention soon gave him\\nthe knack of it, and he strode down the street with his mouth full of\\nharmony and his soul full of gratitude',\n",
       " ' he felt much as an astronomer\\nfeels who has discovered a new planet—no doubt, as far as strong, deep,\\nunalloyed pleasure is concerned, the advantage was with the boy, not the\\nastronomer',\n",
       " '\\n\\nthe summer evenings were long',\n",
       " ' it was not dark, yet',\n",
       " ' presently tom\\nchecked his whistle',\n",
       " ' a stranger was before him—a boy a shade larger\\nthan himself',\n",
       " ' a new-comer of any age or either sex was an impressive\\ncuriosity in the poor little shabby village of st',\n",
       " ' petersburg',\n",
       " ' this boy\\nwas well dressed, too—well dressed on a week-day',\n",
       " ' this was simply\\nastounding',\n",
       " ' his cap was a dainty thing, his close-buttoned blue cloth\\nroundabout was new and natty, and so were his pantaloons',\n",
       " ' he had shoes\\non—and it was only friday',\n",
       " ' he even wore a necktie, a bright bit of\\nribbon',\n",
       " ' he had a citified air about him that ate into tom’s vitals',\n",
       " ' the\\nmore tom stared at the splendid marvel, the higher he turned up his nose\\nat his finery and the shabbier and shabbier his own outfit seemed to\\nhim to grow',\n",
       " ' neither boy spoke',\n",
       " ' if one moved, the other moved—but only\\nsidewise, in a circle; they kept face to face and eye to eye all the\\ntime',\n",
       " ' finally tom said:\\n\\n“i can lick you!”\\n\\n“i’d like to see you try it',\n",
       " '”\\n\\n“well, i can do it',\n",
       " '”\\n\\n“no you can’t, either',\n",
       " '”\\n\\n“yes i can',\n",
       " '”\\n\\n“no you can’t',\n",
       " '”\\n\\n“i can',\n",
       " '”\\n\\n“you can’t',\n",
       " '”\\n\\n“can!”\\n\\n“can’t!”\\n\\nan uncomfortable pause',\n",
       " ' then tom said:\\n\\n“what’s your name?”\\n\\n“’tisn’t any of your business, maybe',\n",
       " '”\\n\\n“well i ’low i’ll _make_ it my business',\n",
       " '”\\n\\n“well why don’t you?”\\n\\n“if you say much, i will',\n",
       " '”\\n\\n“much—much—_much_',\n",
       " ' there now',\n",
       " '”\\n\\n“oh, you think you’re mighty smart, _don’t_ you? i could lick you with\\none hand tied behind me, if i wanted to',\n",
       " '”\\n\\n“well why don’t you _do_ it? you _say_ you can do it',\n",
       " '”\\n\\n“well i _will_, if you fool with me',\n",
       " '”\\n\\n“oh yes—i’ve seen whole families in the same fix',\n",
       " '”\\n\\n“smarty! you think you’re _some_, now, _don’t_ you? oh, what a hat!”\\n\\n“you can lump that hat if you don’t like it',\n",
       " ' i dare you to knock it\\noff—and anybody that’ll take a dare will suck eggs',\n",
       " '”\\n\\n“you’re a liar!”\\n\\n“you’re another',\n",
       " '”\\n\\n“you’re a fighting liar and dasn’t take it up',\n",
       " '”\\n\\n“aw—take a walk!”\\n\\n“say—if you give me much more of your sass i’ll take and bounce a rock\\noff’n your head',\n",
       " '”\\n\\n“oh, of _course_ you will',\n",
       " '”\\n\\n“well i _will_',\n",
       " '”\\n\\n“well why don’t you _do_ it then? what do you keep _saying_ you will\\nfor? why don’t you _do_ it? it’s because you’re afraid',\n",
       " '”\\n\\n“i _ain’t_ afraid',\n",
       " '”\\n\\n“you are',\n",
       " '”\\n\\n“i ain’t',\n",
       " '”\\n\\n“you are',\n",
       " '”\\n\\nanother pause, and more eying and sidling around each other',\n",
       " ' presently\\nthey were shoulder to shoulder',\n",
       " ' tom said:\\n\\n“get away from here!”\\n\\n“go away yourself!”\\n\\n“i won’t',\n",
       " '”\\n\\n“i won’t either',\n",
       " '”\\n\\nso they stood, each with a foot placed at an angle as a brace, and both\\nshoving with might and main, and glowering at each other with hate',\n",
       " ' but\\nneither could get an advantage',\n",
       " ' after struggling till both were hot and\\nflushed, each relaxed his strain with watchful caution, and tom said:\\n\\n“you’re a coward and a pup',\n",
       " ' i’ll tell my big brother on you, and he can\\nthrash you with his little finger, and i’ll make him do it, too',\n",
       " '”\\n\\n“what do i care for your big brother? i’ve got a brother that’s bigger\\nthan he is—and what’s more, he can throw him over that fence, too',\n",
       " '”\\n [both brothers were imaginary',\n",
       " ']\\n\\n“that’s a lie',\n",
       " '”\\n\\n“_your_ saying so don’t make it so',\n",
       " '”\\n\\ntom drew a line in the dust with his big toe, and said:\\n\\n“i dare you to step over that, and i’ll lick you till you can’t stand\\nup',\n",
       " ' anybody that’ll take a dare will steal sheep',\n",
       " '”\\n\\nthe new boy stepped over promptly, and said:\\n\\n“now you said you’d do it, now let’s see you do it',\n",
       " '”\\n\\n“don’t you crowd me now; you better look out',\n",
       " '”\\n\\n“well, you _said_ you’d do it—why don’t you do it?”\\n\\n“by jingo! for two cents i _will_ do it',\n",
       " '”\\n\\nthe new boy took two broad coppers out of his pocket and held them out\\nwith derision',\n",
       " ' tom struck them to the ground',\n",
       " ' in an instant both boys\\nwere rolling and tumbling in the dirt, gripped together like cats; and\\nfor the space of a minute they tugged and tore at each other’s hair and\\nclothes, punched and scratched each other’s nose, and covered themselves\\nwith dust and glory',\n",
       " ' presently the confusion took form, and through the\\nfog of battle tom appeared, seated astride the new boy, and pounding him\\nwith his fists',\n",
       " ' “holler ’nuff!” said he',\n",
       " '\\n\\nthe boy only struggled to free himself',\n",
       " ' he was crying—mainly from rage',\n",
       " '\\n\\n“holler ’nuff!”—and the pounding went on',\n",
       " '\\n\\nat last the stranger got out a smothered “’nuff!” and tom let him up and\\nsaid:\\n\\n“now that’ll learn you',\n",
       " ' better look out who you’re fooling with next\\ntime',\n",
       " '”\\n\\nthe new boy went off brushing the dust from his clothes, sobbing,\\nsnuffling, and occasionally looking back and shaking his head and\\nthreatening what he would do to tom the “next time he caught him out',\n",
       " '”\\n to which tom responded with jeers, and started off in high feather, and\\nas soon as his back was turned the new boy snatched up a stone, threw it\\nand hit him between the shoulders and then turned tail and ran like\\nan antelope',\n",
       " ' tom chased the traitor home, and thus found out where he\\nlived',\n",
       " ' he then held a position at the gate for some time, daring the\\nenemy to come outside, but the enemy only made faces at him through the\\nwindow and declined',\n",
       " ' at last the enemy’s mother appeared, and called tom\\na bad, vicious, vulgar child, and ordered him away',\n",
       " ' so he went away; but\\nhe said he “’lowed” to “lay” for that boy',\n",
       " '\\n\\nhe got home pretty late that night, and when he climbed cautiously in\\nat the window, he uncovered an ambuscade, in the person of his aunt; and\\nwhen she saw the state his clothes were in her resolution to turn his\\nsaturday holiday into captivity at hard labor became adamantine in its\\nfirmness',\n",
       " '\\n\\n\\n\\n\\nsaturday morning was come, and all the summer world was bright and\\nfresh, and brimming with life',\n",
       " ' there was a song in every heart; and if\\nthe heart was young the music issued at the lips',\n",
       " ' there was cheer in\\nevery face and a spring in every step',\n",
       " ' the locust-trees were in bloom\\nand the fragrance of the blossoms filled the air',\n",
       " ' cardiff hill, beyond\\nthe village and above it, was green with vegetation and it lay just far\\nenough away to seem a delectable land, dreamy, reposeful, and inviting',\n",
       " '\\n\\ntom appeared on the sidewalk with a bucket of whitewash and a\\nlong-handled brush',\n",
       " ' he surveyed the fence, and all gladness left him and\\na deep melancholy settled down upon his spirit',\n",
       " ' thirty yards of board\\nfence nine feet high',\n",
       " ' life to him seemed hollow, and existence but a\\nburden',\n",
       " ' sighing, he dipped his brush and passed it along the topmost\\nplank; repeated the operation; did it again; compared the insignificant\\nwhitewashed streak with the far-reaching continent of unwhitewashed\\nfence, and sat down on a tree-box discouraged',\n",
       " ' jim came skipping out at\\nthe gate with a tin pail, and singing buffalo gals',\n",
       " ' bringing water from\\nthe town pump had always been hateful work in tom’s eyes, before, but\\nnow it did not strike him so',\n",
       " ' he remembered that there was company at\\nthe pump',\n",
       " ' white, mulatto, and negro boys and girls were always there\\nwaiting their turns, resting, trading playthings, quarrelling, fighting,\\nskylarking',\n",
       " ' and he remembered that although the pump was only a hundred\\nand fifty yards off, jim never got back with a bucket of water under an\\nhour—and even then somebody generally had to go after him',\n",
       " ' tom said:\\n\\n“say, jim, i’ll fetch the water if you’ll whitewash some',\n",
       " '”\\n\\njim shook his head and said:\\n\\n“can’t, mars tom',\n",
       " ' ole missis, she tole me i got to go an’ git dis water\\nan’ not stop foolin’ roun’ wid anybody',\n",
       " ' she say she spec’ mars tom gwine\\nto ax me to whitewash, an’ so she tole me go ’long an’ ’tend to my own\\nbusiness—she ’lowed _she’d_ ’tend to de whitewashin’',\n",
       " '”\\n\\n“oh, never you mind what she said, jim',\n",
       " ' that’s the way she always talks',\n",
       " '\\ngimme the bucket—i won’t be gone only a a minute',\n",
       " ' _she_ won’t ever\\nknow',\n",
       " '”\\n\\n“oh, i dasn’t, mars tom',\n",
       " ' ole missis she’d take an’ tar de head off’n me',\n",
       " '\\n’deed she would',\n",
       " '”\\n\\n“_she_! she never licks anybody—whacks ’em over the head with her\\nthimble—and who cares for that, i’d like to know',\n",
       " ' she talks awful, but\\ntalk don’t hurt—anyways it don’t if she don’t cry',\n",
       " ' jim, i’ll give you a\\nmarvel',\n",
       " ' i’ll give you a white alley!”\\n\\njim began to waver',\n",
       " '\\n\\n“white alley, jim! and it’s a bully taw',\n",
       " '”\\n\\n“my! dat’s a mighty gay marvel, i tell you! but mars tom i’s powerful\\n’fraid ole missis—”\\n\\n“and besides, if you will i’ll show you my sore toe',\n",
       " '”\\n\\njim was only human—this attraction was too much for him',\n",
       " ' he put down\\nhis pail, took the white alley, and bent over the toe with absorbing\\ninterest while the bandage was being unwound',\n",
       " ' in another moment he\\nwas flying down the street with his pail and a tingling rear, tom was\\nwhitewashing with vigor, and aunt polly was retiring from the field with\\na slipper in her hand and triumph in her eye',\n",
       " '\\n\\nbut tom’s energy did not last',\n",
       " ' he began to think of the fun he had\\nplanned for this day, and his sorrows multiplied',\n",
       " ' soon the free boys\\nwould come tripping along on all sorts of delicious expeditions, and\\nthey would make a world of fun of him for having to work—the very\\nthought of it burnt him like fire',\n",
       " ' he got out his worldly wealth and\\nexamined it—bits of toys, marbles, and trash; enough to buy an exchange\\nof _work_, maybe, but not half enough to buy so much as half an hour\\nof pure freedom',\n",
       " ' so he returned his straitened means to his pocket, and\\ngave up the idea of trying to buy the boys',\n",
       " ' at this dark and hopeless\\nmoment an inspiration burst upon him! nothing less than a great,\\nmagnificent inspiration',\n",
       " '\\n\\nhe took up his brush and went tranquilly to work',\n",
       " ' ben rogers hove in\\nsight presently—the very boy, of all boys, whose ridicule he had been\\ndreading',\n",
       " ' ben’s gait was the hop-skip-and-jump—proof enough that his\\nheart was light and his anticipations high',\n",
       " ' he was eating an apple, and\\ngiving a long, melodious whoop, at intervals, followed by a deep-toned\\nding-dong-dong, ding-dong-dong, for he was personating a steamboat',\n",
       " ' as\\nhe drew near, he slackened speed, took the middle of the street, leaned\\nfar over to starboard and rounded to ponderously and with laborious pomp\\nand circumstance—for he was personating the big missouri, and considered\\nhimself to be drawing nine feet of water',\n",
       " ' he was boat and captain and\\nengine-bells combined, so he had to imagine himself standing on his own\\nhurricane-deck giving the orders and executing them:\\n\\n“stop her, sir! ting-a-ling-ling!” the headway ran almost out, and he\\ndrew up slowly toward the sidewalk',\n",
       " '\\n\\n“ship up to back! ting-a-ling-ling!” his arms straightened and stiffened\\ndown his sides',\n",
       " '\\n\\n“set her back on the stabboard! ting-a-ling-ling! chow! ch-chow-wow!\\nchow!” his right hand, mean-time, describing stately circles—for it was\\nrepresenting a forty-foot wheel',\n",
       " '\\n\\n“let her go back on the labboard! ting-a-ling-ling! chow-ch-chow-chow!”\\n the left hand began to describe circles',\n",
       " '\\n\\n“stop the stabboard! ting-a-ling-ling! stop the labboard! come ahead on\\nthe stabboard! stop her! let your outside turn over slow!\\nting-a-ling-ling! chow-ow-ow! get out that head-line! _lively_ now!\\ncome—out with your spring-line—what’re you about there! take a turn\\nround that stump with the bight of it! stand by that stage, now—let her\\ngo! done with the engines, sir! ting-a-ling-ling! sh’t! s’h’t! sh’t!”\\n(trying the gauge-cocks)',\n",
       " '\\n\\ntom went on whitewashing—paid no attention to the steamboat',\n",
       " ' ben stared\\na moment and then said: “_hi-yi! you’re_ up a stump, ain’t you!”\\n\\nno answer',\n",
       " ' tom surveyed his last touch with the eye of an artist, then\\nhe gave his brush another gentle sweep and surveyed the result, as\\nbefore',\n",
       " ' ben ranged up alongside of him',\n",
       " ' tom’s mouth watered for the\\napple, but he stuck to his work',\n",
       " ' ben said:\\n\\n“hello, old chap, you got to work, hey?”\\n\\ntom wheeled suddenly and said:\\n\\n“why, it’s you, ben! i warn’t noticing',\n",
       " '”\\n\\n“say—i’m going in a-swimming, i am',\n",
       " ' don’t you wish you could? but of\\ncourse you’d druther _work_—wouldn’t you? course you would!”\\n\\ntom contemplated the boy a bit, and said:\\n\\n“what do you call work?”\\n\\n“why, ain’t _that_ work?”\\n\\ntom resumed his whitewashing, and answered carelessly:\\n\\n“well, maybe it is, and maybe it ain’t',\n",
       " ' all i know, is, it suits tom\\nsawyer',\n",
       " '”\\n\\n“oh come, now, you don’t mean to let on that you _like_ it?”\\n\\nthe brush continued to move',\n",
       " '\\n\\n“like it? well, i don’t see why i oughtn’t to like it',\n",
       " ' does a boy get a\\nchance to whitewash a fence every day?”\\n\\nthat put the thing in a new light',\n",
       " ' ben stopped nibbling his apple',\n",
       " '\\ntom swept his brush daintily back and forth—stepped back to note the\\neffect—added a touch here and there—criticised the effect again—ben\\nwatching every move and getting more and more interested, more and more\\nabsorbed',\n",
       " ' presently he said:\\n\\n“say, tom, let _me_ whitewash a little',\n",
       " '”\\n\\ntom considered, was about to consent; but he altered his mind:\\n\\n“no—no—i reckon it wouldn’t hardly do, ben',\n",
       " ' you see, aunt polly’s awful\\nparticular about this fence—right here on the street, you know—but if it\\nwas the back fence i wouldn’t mind and _she_ wouldn’t',\n",
       " ' yes, she’s awful\\nparticular about this fence; it’s got to be done very careful; i reckon\\nthere ain’t one boy in a thousand, maybe two thousand, that can do it\\nthe way it’s got to be done',\n",
       " '”\\n\\n“no—is that so? oh come, now—lemme just try',\n",
       " ' only just a little—i’d let\\n_you_, if you was me, tom',\n",
       " '”\\n\\n“ben, i’d like to, honest injun; but aunt polly—well, jim wanted to do\\nit, but she wouldn’t let him; sid wanted to do it, and she wouldn’t let\\nsid',\n",
       " ' now don’t you see how i’m fixed? if you was to tackle this fence\\nand anything was to happen to it—”\\n\\n“oh, shucks, i’ll be just as careful',\n",
       " ' now lemme try',\n",
       " ' say—i’ll give you\\nthe core of my apple',\n",
       " '”\\n\\n“well, here—no, ben, now don’t',\n",
       " ' i’m afeard—”\\n\\n“i’ll give you _all_ of it!”\\n\\ntom gave up the brush with reluctance in his face, but alacrity in his\\nheart',\n",
       " ' and while the late steamer big missouri worked and sweated in the\\nsun, the retired artist sat on a barrel in the shade close by,\\ndangled his legs, munched his apple, and planned the slaughter of more\\ninnocents',\n",
       " ' there was no lack of material; boys happened along every\\nlittle while; they came to jeer, but remained to whitewash',\n",
       " ' by the time\\nben was fagged out, tom had traded the next chance to billy fisher for\\na kite, in good repair; and when he played out, johnny miller bought in\\nfor a dead rat and a string to swing it with—and so on, and so on, hour\\nafter hour',\n",
       " ' and when the middle of the afternoon came, from being a\\npoor poverty-stricken boy in the morning, tom was literally rolling in\\nwealth',\n",
       " ' he had besides the things before mentioned, twelve marbles, part\\nof a jews-harp, a piece of blue bottle-glass to look through, a spool\\ncannon, a key that wouldn’t unlock anything, a fragment of chalk, a\\nglass stopper of a decanter, a tin soldier, a couple of tadpoles,\\nsix fire-crackers, a kitten with only one eye, a brass door-knob, a\\ndog-collar—but no dog—the handle of a knife, four pieces of orange-peel,\\nand a dilapidated old window sash',\n",
       " '\\n\\nhe had had a nice, good, idle time all the while—plenty of company—and\\nthe fence had three coats of whitewash on it! if he hadn’t run out of\\nwhitewash he would have bankrupted every boy in the village',\n",
       " '\\n\\ntom said to himself that it was not such a hollow world, after all',\n",
       " ' he\\nhad discovered a great law of human action, without knowing it—namely,\\nthat in order to make a man or a boy covet a thing, it is only necessary\\nto make the thing difficult to attain',\n",
       " ' if he had been a great and\\nwise philosopher, like the writer of this book, he would now have\\ncomprehended that work consists of whatever a body is _obliged_ to do,\\nand that play consists of whatever a body is not obliged to do',\n",
       " ' and\\nthis would help him to understand why constructing artificial flowers or\\nperforming on a tread-mill is work, while rolling ten-pins or climbing\\nmont blanc is only amusement',\n",
       " ' there are wealthy gentlemen in england\\nwho drive four-horse passenger-coaches twenty or thirty miles on a\\ndaily line, in the summer, because the privilege costs them considerable\\nmoney; but if they were offered wages for the service, that would turn\\nit into work and then they would resign',\n",
       " '\\n\\nthe boy mused awhile over the substantial change which had taken place\\nin his worldly circumstances, and then wended toward headquarters to\\nreport',\n",
       " '\\n\\n\\n\\ntom presented himself before aunt polly, who was sitting by an\\nopen window in a pleasant rearward apartment, which was bedroom,\\nbreakfast-room, dining-room, and library, combined',\n",
       " ' the balmy summer\\nair, the restful quiet, the odor of the flowers, and the drowsing\\nmurmur of the bees had had their effect, and she was nodding over her\\nknitting—for she had no company but the cat, and it was asleep in her\\nlap',\n",
       " ' her spectacles were propped up on her gray head for safety',\n",
       " ' she had\\nthought that of course tom had deserted long ago, and she wondered at\\nseeing him place himself in her power again in this intrepid way',\n",
       " ' he\\nsaid: “mayn’t i go and play now, aunt?”\\n\\n“what, a’ready? how much have you done?”\\n\\n“it’s all done, aunt',\n",
       " '”\\n\\n“tom, don’t lie to me—i can’t bear it',\n",
       " '”\\n\\n“i ain’t, aunt; it _is_ all done',\n",
       " '”\\n\\naunt polly placed small trust in such evidence',\n",
       " ' she went out to see for\\nherself; and she would have been content to find twenty per cent',\n",
       " ' of\\ntom’s statement true',\n",
       " ' when she found the entire fence white-washed, and\\nnot only whitewashed but elaborately coated and recoated, and even a\\nstreak added to the ground, her astonishment was almost unspeakable',\n",
       " ' she\\nsaid:\\n\\n“well, i never! there’s no getting round it, you can work when you’re a\\nmind to, tom',\n",
       " '” and then she diluted the compliment by adding, “but it’s\\npowerful seldom you’re a mind to, i’m bound to say',\n",
       " ' well, go ’long and\\nplay; but mind you get back some time in a week, or i’ll tan you',\n",
       " '”\\n\\nshe was so overcome by the splendor of his achievement that she took\\nhim into the closet and selected a choice apple and delivered it to him,\\nalong with an improving lecture upon the added value and flavor a treat\\ntook to itself when it came without sin through virtuous effort',\n",
       " '\\nand while she closed with a happy scriptural flourish, he “hooked” a\\ndoughnut',\n",
       " '\\n\\nthen he skipped out, and saw sid just starting up the outside stairway\\nthat led to the back rooms on the second floor',\n",
       " ' clods were handy and\\nthe air was full of them in a twinkling',\n",
       " ' they raged around sid like a\\nhail-storm; and before aunt polly could collect her surprised faculties\\nand sally to the rescue, six or seven clods had taken personal effect,\\nand tom was over the fence and gone',\n",
       " ' there was a gate, but as a general\\nthing he was too crowded for time to make use of it',\n",
       " ' his soul was at\\npeace, now that he had settled with sid for calling attention to his\\nblack thread and getting him into trouble',\n",
       " '\\n\\ntom skirted the block, and came round into a muddy alley that led by the\\nback of his aunt’s cow-stable',\n",
       " ' he presently got safely beyond the reach\\nof capture and punishment, and hastened toward the public square of the\\nvillage, where two “military” companies of boys had met for conflict,\\naccording to previous appointment',\n",
       " ' tom was general of one of these\\narmies, joe harper (a bosom friend) general of the other',\n",
       " ' these two\\ngreat commanders did not condescend to fight in person—that being better\\nsuited to the still smaller fry—but sat together on an eminence\\nand conducted the field operations by orders delivered through\\naides-de-camp',\n",
       " ' tom’s army won a great victory, after a long and\\nhard-fought battle',\n",
       " ' then the dead were counted, prisoners exchanged,\\nthe terms of the next disagreement agreed upon, and the day for the\\nnecessary battle appointed; after which the armies fell into line and\\nmarched away, and tom turned homeward alone',\n",
       " '\\n\\nas he was passing by the house where jeff thatcher lived, he saw a new\\ngirl in the garden—a lovely little blue-eyed creature with yellow\\nhair plaited into two long-tails, white summer frock and embroidered\\npantalettes',\n",
       " ' the fresh-crowned hero fell without firing a shot',\n",
       " ' a\\ncertain amy lawrence vanished out of his heart and left not even a\\nmemory of herself behind',\n",
       " ' he had thought he loved her to distraction;\\nhe had regarded his passion as adoration; and behold it was only a poor\\nlittle evanescent partiality',\n",
       " ' he had been months winning her; she had\\nconfessed hardly a week ago; he had been the happiest and the proudest\\nboy in the world only seven short days, and here in one instant of time\\nshe had gone out of his heart like a casual stranger whose visit is\\ndone',\n",
       " '\\n\\nhe worshipped this new angel with furtive eye, till he saw that she had\\ndiscovered him; then he pretended he did not know she was present, and\\nbegan to “show off” in all sorts of absurd boyish ways, in order to win\\nher admiration',\n",
       " ' he kept up this grotesque foolishness for some time;\\nbut by-and-by, while he was in the midst of some dangerous gymnastic\\nperformances, he glanced aside and saw that the little girl was wending\\nher way toward the house',\n",
       " ' tom came up to the fence and leaned on it,\\ngrieving, and hoping she would tarry yet awhile longer',\n",
       " ' she halted a\\nmoment on the steps and then moved toward the door',\n",
       " ' tom heaved a great\\nsigh as she put her foot on the threshold',\n",
       " ' but his face lit up,\\nright away, for she tossed a pansy over the fence a moment before she\\ndisappeared',\n",
       " '\\n\\nthe boy ran around and stopped within a foot or two of the flower, and\\nthen shaded his eyes with his hand and began to look down street as\\nif he had discovered something of interest going on in that direction',\n",
       " '\\npresently he picked up a straw and began trying to balance it on his\\nnose, with his head tilted far back; and as he moved from side to side,\\nin his efforts, he edged nearer and nearer toward the pansy; finally his\\nbare foot rested upon it, his pliant toes closed upon it, and he hopped\\naway with the treasure and disappeared round the corner',\n",
       " ' but only for a\\nminute—only while he could button the flower inside his jacket, next\\nhis heart—or next his stomach, possibly, for he was not much posted in\\nanatomy, and not hypercritical, anyway',\n",
       " '\\n\\nhe returned, now, and hung about the fence till nightfall, “showing\\noff,” as before; but the girl never exhibited herself again, though tom\\ncomforted himself a little with the hope that she had been near some\\nwindow, meantime, and been aware of his attentions',\n",
       " ' finally he strode\\nhome reluctantly, with his poor head full of visions',\n",
       " '\\n\\nall through supper his spirits were so high that his aunt wondered “what\\nhad got into the child',\n",
       " '” he took a good scolding about clodding sid, and\\ndid not seem to mind it in the least',\n",
       " ' he tried to steal sugar under his\\naunt’s very nose, and got his knuckles rapped for it',\n",
       " ' he said:\\n\\n“aunt, you don’t whack sid when he takes it',\n",
       " '”\\n\\n“well, sid don’t torment a body the way you do',\n",
       " ' you’d be always into\\nthat sugar if i warn’t watching you',\n",
       " '”\\n\\npresently she stepped into the kitchen, and sid, happy in his immunity,\\nreached for the sugar-bowl—a sort of glorying over tom which was\\nwellnigh unbearable',\n",
       " ' but sid’s fingers slipped and the bowl dropped and\\nbroke',\n",
       " ' tom was in ecstasies',\n",
       " ' in such ecstasies that he even controlled\\nhis tongue and was silent',\n",
       " ' he said to himself that he would not speak a\\nword, even when his aunt came in, but would sit perfectly still till she\\nasked who did the mischief; and then he would tell, and there would be\\nnothing so good in the world as to see that pet model “catch it',\n",
       " '” he was\\nso brimful of exultation that he could hardly hold himself when the old\\nlady came back and stood above the wreck discharging lightnings of wrath\\nfrom over her spectacles',\n",
       " ' he said to himself, “now it’s coming!” and the\\nnext instant he was sprawling on the floor! the potent palm was uplifted\\nto strike again when tom cried out:\\n\\n“hold on, now, what ’er you belting _me_ for?—sid broke it!”\\n\\naunt polly paused, perplexed, and tom looked for healing pity',\n",
       " ' but when\\nshe got her tongue again, she only said:\\n\\n“umf! well, you didn’t get a lick amiss, i reckon',\n",
       " ' you been into some\\nother audacious mischief when i wasn’t around, like enough',\n",
       " '”\\n\\nthen her conscience reproached her, and she yearned to say something\\nkind and loving; but she judged that this would be construed into a\\nconfession that she had been in the wrong, and discipline forbade that',\n",
       " '\\nso she kept silence, and went about her affairs with a troubled heart',\n",
       " '\\ntom sulked in a corner and exalted his woes',\n",
       " ' he knew that in her heart\\nhis aunt was on her knees to him, and he was morosely gratified by the\\nconsciousness of it',\n",
       " ' he would hang out no signals, he would take notice\\nof none',\n",
       " ' he knew that a yearning glance fell upon him, now and then,\\nthrough a film of tears, but he refused recognition of it',\n",
       " ' he pictured\\nhimself lying sick unto death and his aunt bending over him beseeching\\none little forgiving word, but he would turn his face to the wall, and\\ndie with that word unsaid',\n",
       " ' ah, how would she feel then? and he pictured\\nhimself brought home from the river, dead, with his curls all wet, and\\nhis sore heart at rest',\n",
       " ' how she would throw herself upon him, and how\\nher tears would fall like rain, and her lips pray god to give her back\\nher boy and she would never, never abuse him any more! but he would\\nlie there cold and white and make no sign—a poor little sufferer, whose\\ngriefs were at an end',\n",
       " ' he so worked upon his feelings with the pathos of\\nthese dreams, that he had to keep swallowing, he was so like to choke;\\nand his eyes swam in a blur of water, which overflowed when he winked,\\nand ran down and trickled from the end of his nose',\n",
       " ' and such a luxury to\\nhim was this petting of his sorrows, that he could not bear to have any\\nworldly cheeriness or any grating delight intrude upon it; it was too\\nsacred for such contact; and so, presently, when his cousin mary danced\\nin, all alive with the joy of seeing home again after an age-long visit\\nof one week to the country, he got up and moved in clouds and darkness\\nout at one door as she brought song and sunshine in at the other',\n",
       " '\\n\\nhe wandered far from the accustomed haunts of boys, and sought desolate\\nplaces that were in harmony with his spirit',\n",
       " ' a log raft in the river\\ninvited him, and he seated himself on its outer edge and contemplated\\nthe dreary vastness of the stream, wishing, the while, that he could\\nonly be drowned, all at once and unconsciously, without undergoing the\\nuncomfortable routine devised by nature',\n",
       " ' then he thought of his flower',\n",
       " '\\nhe got it out, rumpled and wilted, and it mightily increased his dismal\\nfelicity',\n",
       " ' he wondered if she would pity him if she knew? would she\\ncry, and wish that she had a right to put her arms around his neck and\\ncomfort him? or would she turn coldly away like all the hollow world?\\nthis picture brought such an agony of pleasurable suffering that he\\nworked it over and over again in his mind and set it up in new and\\nvaried lights, till he wore it threadbare',\n",
       " ' at last he rose up sighing\\nand departed in the darkness',\n",
       " '\\n\\nabout half-past nine or ten o’clock he came along the deserted street to\\nwhere the adored unknown lived; he paused a moment; no sound fell upon\\nhis listening ear; a candle was casting a dull glow upon the curtain\\nof a second-story window',\n",
       " ' was the sacred presence there? he climbed the\\nfence, threaded his stealthy way through the plants, till he stood under\\nthat window; he looked up at it long, and with emotion; then he laid him\\ndown on the ground under it, disposing himself upon his back, with his\\nhands clasped upon his breast and holding his poor wilted flower',\n",
       " '\\nand thus he would die—out in the cold world, with no shelter over his\\nhomeless head, no friendly hand to wipe the death-damps from his brow,\\nno loving face to bend pityingly over him when the great agony came',\n",
       " ' and\\nthus _she_ would see him when she looked out upon the glad morning, and\\noh! would she drop one little tear upon his poor, lifeless form, would\\nshe heave one little sigh to see a bright young life so rudely blighted,\\nso untimely cut down?\\n\\nthe window went up, a maid-servant’s discordant voice profaned the holy\\ncalm, and a deluge of water drenched the prone martyr’s remains!\\n\\nthe strangling hero sprang up with a relieving snort',\n",
       " ' there was a whiz\\nas of a missile in the air, mingled with the murmur of a curse, a sound\\nas of shivering glass followed, and a small, vague form went over the\\nfence and shot away in the gloom',\n",
       " '\\n\\nnot long after, as tom, all undressed for bed, was surveying his\\ndrenched garments by the light of a tallow dip, sid woke up; but if he\\nhad any dim idea of making any “references to allusions,” he thought\\nbetter of it and held his peace, for there was danger in tom’s eye',\n",
       " '\\n\\ntom turned in without the added vexation of prayers, and sid made mental\\nnote of the omission',\n",
       " '\\n\\n\\nthe sun rose upon a tranquil world, and beamed down upon the peaceful\\nvillage like a benediction',\n",
       " ' breakfast over, aunt polly had family\\nworship: it began with a prayer built from the ground up of solid\\ncourses of scriptural quotations, welded together with a thin mortar of\\noriginality; and from the summit of this she delivered a grim chapter of\\nthe mosaic law, as from sinai',\n",
       " '\\n\\nthen tom girded up his loins, so to speak, and went to work to “get\\nhis verses',\n",
       " '” sid had learned his lesson days before',\n",
       " ' tom bent all his\\nenergies to the memorizing of five verses, and he chose part of the\\nsermon on the mount, because he could find no verses that were shorter',\n",
       " '\\nat the end of half an hour tom had a vague general idea of his lesson,\\nbut no more, for his mind was traversing the whole field of human\\nthought, and his hands were busy with distracting recreations',\n",
       " ' mary took\\nhis book to hear him recite, and he tried to find his way through the\\nfog:\\n\\n“blessed are the—a—a—”\\n\\n“poor”—\\n\\n“yes—poor; blessed are the poor—a—a—”\\n\\n“in spirit—”\\n\\n“in spirit; blessed are the poor in spirit, for they—they—”\\n\\n“_theirs_—”\\n\\n“for _theirs_',\n",
       " ' blessed are the poor in spirit, for theirs is the kingdom\\nof heaven',\n",
       " ' blessed are they that mourn, for they—they—”\\n\\n“sh—”\\n\\n“for they—a—”\\n\\n“s, h, a—”\\n\\n“for they s, h—oh, i don’t know what it is!”\\n\\n“_shall_!”\\n\\n“oh, _shall_! for they shall—for they shall—a—a—shall\\nmourn—a—a—blessed are they that shall—they that—a—they that\\nshall mourn, for they shall—a—shall _what_? why don’t you tell me,\\nmary?—what do you want to be so mean for?”\\n\\n“oh, tom, you poor thick-headed thing, i’m not teasing you',\n",
       " ' i wouldn’t\\ndo that',\n",
       " ' you must go and learn it again',\n",
       " ' don’t you be discouraged, tom,\\nyou’ll manage it—and if you do, i’ll give you something ever so nice',\n",
       " '\\nthere, now, that’s a good boy',\n",
       " '”\\n\\n“all right! what is it, mary, tell me what it is',\n",
       " '”\\n\\n“never you mind, tom',\n",
       " ' you know if i say it’s nice, it is nice',\n",
       " '”\\n\\n“you bet you that’s so, mary',\n",
       " ' all right, i’ll tackle it again',\n",
       " '”\\n\\nand he did “tackle it again”—and under the double pressure of curiosity\\nand prospective gain he did it with such spirit that he accomplished a\\nshining success',\n",
       " ' mary gave him a brand-new “barlow” knife worth twelve\\nand a half cents; and the convulsion of delight that swept his system\\nshook him to his foundations',\n",
       " ' true, the knife would not cut anything,\\nbut it was a “sure-enough” barlow, and there was inconceivable grandeur\\nin that—though where the western boys ever got the idea that such a\\nweapon could possibly be counterfeited to its injury is an imposing\\nmystery and will always remain so, perhaps',\n",
       " ' tom contrived to scarify the\\ncupboard with it, and was arranging to begin on the bureau, when he was\\ncalled off to dress for sunday-school',\n",
       " '\\n\\nmary gave him a tin basin of water and a piece of soap, and he went\\noutside the door and set the basin on a little bench there; then he\\ndipped the soap in the water and laid it down; turned up his sleeves;\\npoured out the water on the ground, gently, and then entered the kitchen\\nand began to wipe his face diligently on the towel behind the door',\n",
       " ' but\\nmary removed the towel and said:\\n\\n“now ain’t you ashamed, tom',\n",
       " ' you mustn’t be so bad',\n",
       " ' water won’t hurt\\nyou',\n",
       " '”\\n\\ntom was a trifle disconcerted',\n",
       " ' the basin was refilled, and this time he\\nstood over it a little while, gathering resolution; took in a big breath\\nand began',\n",
       " ' when he entered the kitchen presently, with both eyes shut\\nand groping for the towel with his hands, an honorable testimony of\\nsuds and water was dripping from his face',\n",
       " ' but when he emerged from\\nthe towel, he was not yet satisfactory, for the clean territory stopped\\nshort at his chin and his jaws, like a mask; below and beyond this line\\nthere was a dark expanse of unirrigated soil that spread downward in\\nfront and backward around his neck',\n",
       " ' mary took him in hand, and when she\\nwas done with him he was a man and a brother, without distinction of\\ncolor, and his saturated hair was neatly brushed, and its short curls\\nwrought into a dainty and symmetrical general effect',\n",
       " ' [he privately\\nsmoothed out the curls, with labor and difficulty, and plastered his\\nhair close down to his head; for he held curls to be effeminate, and his\\nown filled his life with bitterness',\n",
       " '] then mary got out a suit of his\\nclothing that had been used only on sundays during two years—they were\\nsimply called his “other clothes”—and so by that we know the size of his\\nwardrobe',\n",
       " ' the girl “put him to rights” after he had dressed himself;\\nshe buttoned his neat roundabout up to his chin, turned his vast shirt\\ncollar down over his shoulders, brushed him off and crowned him with\\nhis speckled straw hat',\n",
       " ' he now looked exceedingly improved and\\nuncomfortable',\n",
       " ' he was fully as uncomfortable as he looked; for there\\nwas a restraint about whole clothes and cleanliness that galled him',\n",
       " ' he\\nhoped that mary would forget his shoes, but the hope was blighted; she\\ncoated them thoroughly with tallow, as was the custom, and brought\\nthem out',\n",
       " ' he lost his temper and said he was always being made to do\\neverything he didn’t want to do',\n",
       " ' but mary said, persuasively:\\n\\n“please, tom—that’s a good boy',\n",
       " '”\\n\\nso he got into the shoes snarling',\n",
       " ' mary was soon ready, and the three\\nchildren set out for sunday-school—a place that tom hated with his whole\\nheart; but sid and mary were fond of it',\n",
       " '\\n\\nsabbath-school hours were from nine to half-past ten; and then church\\nservice',\n",
       " ' two of the children always remained for the sermon voluntarily,\\nand the other always remained too—for stronger reasons',\n",
       " ' the church’s\\nhigh-backed, uncushioned pews would seat about three hundred persons;\\nthe edifice was but a small, plain affair, with a sort of pine board\\ntree-box on top of it for a steeple',\n",
       " ' at the door tom dropped back a step\\nand accosted a sunday-dressed comrade:\\n\\n“say, billy, got a yaller ticket?”\\n\\n“yes',\n",
       " '”\\n\\n“what’ll you take for her?”\\n\\n“what’ll you give?”\\n\\n“piece of lickrish and a fish-hook',\n",
       " '”\\n\\n“less see ’em',\n",
       " '”\\n\\ntom exhibited',\n",
       " ' they were satisfactory, and the property changed hands',\n",
       " '\\nthen tom traded a couple of white alleys for three red tickets, and some\\nsmall trifle or other for a couple of blue ones',\n",
       " ' he waylaid other\\nboys as they came, and went on buying tickets of various colors ten\\nor fifteen minutes longer',\n",
       " ' he entered the church, now, with a swarm\\nof clean and noisy boys and girls, proceeded to his seat and started\\na quarrel with the first boy that came handy',\n",
       " ' the teacher, a grave,\\nelderly man, interfered; then turned his back a moment and tom pulled a\\nboy’s hair in the next bench, and was absorbed in his book when the boy\\nturned around; stuck a pin in another boy, presently, in order to hear\\nhim say “ouch!” and got a new reprimand from his teacher',\n",
       " ' tom’s whole\\nclass were of a pattern—restless, noisy, and troublesome',\n",
       " ' when they came\\nto recite their lessons, not one of them knew his verses perfectly, but\\nhad to be prompted all along',\n",
       " ' however, they worried through, and each\\ngot his reward—in small blue tickets, each with a passage of scripture\\non it; each blue ticket was pay for two verses of the recitation',\n",
       " ' ten\\nblue tickets equalled a red one, and could be exchanged for it; ten red\\ntickets equalled a yellow one; for ten yellow tickets the superintendent\\ngave a very plainly bound bible (worth forty cents in those easy\\ntimes) to the pupil',\n",
       " ' how many of my readers would have the industry and\\napplication to memorize two thousand verses, even for a doré bible? and\\nyet mary had acquired two bibles in this way—it was the patient work of\\ntwo years—and a boy of german parentage had won four or five',\n",
       " ' he once\\nrecited three thousand verses without stopping; but the strain upon his\\nmental faculties was too great, and he was little better than an idiot\\nfrom that day forth—a grievous misfortune for the school, for on great\\noccasions, before company, the superintendent (as tom expressed it)\\nhad always made this boy come out and “spread himself',\n",
       " '” only the older\\npupils managed to keep their tickets and stick to their tedious work\\nlong enough to get a bible, and so the delivery of one of these prizes\\nwas a rare and noteworthy circumstance; the successful pupil was so\\ngreat and conspicuous for that day that on the spot every scholar’s\\nheart was fired with a fresh ambition that often lasted a couple\\nof weeks',\n",
       " ' it is possible that tom’s mental stomach had never really\\nhungered for one of those prizes, but unquestionably his entire being\\nhad for many a day longed for the glory and the eclat that came with it',\n",
       " '\\n\\nin due course the superintendent stood up in front of the pulpit, with\\na closed hymn-book in his hand and his forefinger inserted between its\\nleaves, and commanded attention',\n",
       " ' when a sunday-school superintendent\\nmakes his customary little speech, a hymn-book in the hand is as\\nnecessary as is the inevitable sheet of music in the hand of a singer\\nwho stands forward on the platform and sings a solo at a concert—though\\nwhy, is a mystery: for neither the hymn-book nor the sheet of music\\nis ever referred to by the sufferer',\n",
       " ' this superintendent was a slim\\ncreature of thirty-five, with a sandy goatee and short sandy hair; he\\nwore a stiff standing-collar whose upper edge almost reached his ears\\nand whose sharp points curved forward abreast the corners of his mouth—a\\nfence that compelled a straight lookout ahead, and a turning of the\\nwhole body when a side view was required; his chin was propped on a\\nspreading cravat which was as broad and as long as a bank-note, and had\\nfringed ends; his boot toes were turned sharply up, in the fashion\\nof the day, like sleigh-runners—an effect patiently and laboriously\\nproduced by the young men by sitting with their toes pressed against a\\nwall for hours together',\n",
       " ' mr',\n",
       " ' walters was very earnest of mien, and very\\nsincere and honest at heart; and he held sacred things and places\\nin such reverence, and so separated them from worldly matters, that\\nunconsciously to himself his sunday-school voice had acquired a peculiar\\nintonation which was wholly absent on week-days',\n",
       " ' he began after this\\nfashion:\\n\\n“now, children, i want you all to sit up just as straight and pretty as\\nyou can and give me all your attention for a minute or two',\n",
       " ' there—that\\nis it',\n",
       " ' that is the way good little boys and girls should do',\n",
       " ' i see one\\nlittle girl who is looking out of the window—i am afraid she thinks i\\nam out there somewhere—perhaps up in one of the trees making a speech\\nto the little birds',\n",
       " ' [applausive titter',\n",
       " '] i want to tell you how good it\\nmakes me feel to see so many bright, clean little faces assembled in a\\nplace like this, learning to do right and be good',\n",
       " '” and so forth and so\\non',\n",
       " ' it is not necessary to set down the rest of the oration',\n",
       " ' it was of a\\npattern which does not vary, and so it is familiar to us all',\n",
       " '\\n\\nthe latter third of the speech was marred by the resumption of fights\\nand other recreations among certain of the bad boys, and by fidgetings\\nand whisperings that extended far and wide, washing even to the bases of\\nisolated and incorruptible rocks like sid and mary',\n",
       " ' but now every sound\\nceased suddenly, with the subsidence of mr',\n",
       " ' walters’ voice, and the\\nconclusion of the speech was received with a burst of silent gratitude',\n",
       " '\\n\\na good part of the whispering had been occasioned by an event which was\\nmore or less rare—the entrance of visitors: lawyer thatcher, accompanied\\nby a very feeble and aged man; a fine, portly, middle-aged gentleman\\nwith iron-gray hair; and a dignified lady who was doubtless the latter’s\\nwife',\n",
       " ' the lady was leading a child',\n",
       " ' tom had been restless and full of\\nchafings and repinings; conscience-smitten, too—he could not meet amy\\nlawrence’s eye, he could not brook her loving gaze',\n",
       " ' but when he saw this\\nsmall newcomer his soul was all ablaze with bliss in a moment',\n",
       " ' the next\\nmoment he was “showing off” with all his might—cuffing boys, pulling\\nhair, making faces—in a word, using every art that seemed likely to\\nfascinate a girl and win her applause',\n",
       " ' his exaltation had but one\\nalloy—the memory of his humiliation in this angel’s garden—and that\\nrecord in sand was fast washing out, under the waves of happiness that\\nwere sweeping over it now',\n",
       " '\\n\\nthe visitors were given the highest seat of honor, and as soon as mr',\n",
       " '\\nwalters’ speech was finished, he introduced them to the school',\n",
       " ' the\\nmiddle-aged man turned out to be a prodigious personage—no less a one\\nthan the county judge—altogether the most august creation these children\\nhad ever looked upon—and they wondered what kind of material he was made\\nof—and they half wanted to hear him roar, and were half afraid he might,\\ntoo',\n",
       " ' he was from constantinople, twelve miles away—so he had travelled,\\nand seen the world—these very eyes had looked upon the county\\ncourt-house—which was said to have a tin roof',\n",
       " ' the awe which these\\nreflections inspired was attested by the impressive silence and the\\nranks of staring eyes',\n",
       " ' this was the great judge thatcher, brother of\\ntheir own lawyer',\n",
       " ' jeff thatcher immediately went forward, to be familiar\\nwith the great man and be envied by the school',\n",
       " ' it would have been music\\nto his soul to hear the whisperings:\\n\\n“look at him, jim! he’s a going up there',\n",
       " ' say—look! he’s a going to\\nshake hands with him—he _is_ shaking hands with him! by jings, don’t you\\nwish you was jeff?”\\n\\nmr',\n",
       " ' walters fell to “showing off,” with all sorts of official bustlings\\nand activities, giving orders, delivering judgments, discharging\\ndirections here, there, everywhere that he could find a target',\n",
       " ' the\\nlibrarian “showed off”—running hither and thither with his arms full of\\nbooks and making a deal of the splutter and fuss that insect authority\\ndelights in',\n",
       " ' the young lady teachers “showed off”—bending sweetly over\\npupils that were lately being boxed, lifting pretty warning fingers\\nat bad little boys and patting good ones lovingly',\n",
       " ' the young gentlemen\\nteachers “showed off” with small scoldings and other little displays of\\nauthority and fine attention to discipline—and most of the teachers, of\\nboth sexes, found business up at the library, by the pulpit; and it was\\nbusiness that frequently had to be done over again two or three times\\n(with much seeming vexation)',\n",
       " ' the little girls “showed off” in various\\nways, and the little boys “showed off” with such diligence that the air\\nwas thick with paper wads and the murmur of scufflings',\n",
       " ' and above it\\nall the great man sat and beamed a majestic judicial smile upon all\\nthe house, and warmed himself in the sun of his own grandeur—for he was\\n“showing off,” too',\n",
       " '\\n\\nthere was only one thing wanting to make mr',\n",
       " ' walters’ ecstasy complete,\\nand that was a chance to deliver a bible-prize and exhibit a prodigy',\n",
       " '\\nseveral pupils had a few yellow tickets, but none had enough—he had been\\naround among the star pupils inquiring',\n",
       " ' he would have given worlds, now,\\nto have that german lad back again with a sound mind',\n",
       " '\\n\\nand now at this moment, when hope was dead, tom sawyer came forward with\\nnine yellow tickets, nine red tickets, and ten blue ones, and demanded\\na bible',\n",
       " ' this was a thunderbolt out of a clear sky',\n",
       " ' walters was not\\nexpecting an application from this source for the next ten years',\n",
       " ' but\\nthere was no getting around it—here were the certified checks, and they\\nwere good for their face',\n",
       " ' tom was therefore elevated to a place with\\nthe judge and the other elect, and the great news was announced from\\nheadquarters',\n",
       " ' it was the most stunning surprise of the decade, and\\nso profound was the sensation that it lifted the new hero up to the\\njudicial one’s altitude, and the school had two marvels to gaze upon\\nin place of one',\n",
       " ' the boys were all eaten up with envy—but those that\\nsuffered the bitterest pangs were those who perceived too late that they\\nthemselves had contributed to this hated splendor by trading tickets to\\ntom for the wealth he had amassed in selling whitewashing privileges',\n",
       " '\\nthese despised themselves, as being the dupes of a wily fraud, a\\nguileful snake in the grass',\n",
       " '\\n\\nthe prize was delivered to tom with as much effusion as the\\nsuperintendent could pump up under the circumstances; but it lacked\\nsomewhat of the true gush, for the poor fellow’s instinct taught him\\nthat there was a mystery here that could not well bear the light,\\nperhaps; it was simply preposterous that this boy had warehoused two\\nthousand sheaves of scriptural wisdom on his premises—a dozen would\\nstrain his capacity, without a doubt',\n",
       " '\\n\\namy lawrence was proud and glad, and she tried to make tom see it in\\nher face—but he wouldn’t look',\n",
       " ' she wondered; then she was just a grain\\ntroubled; next a dim suspicion came and went—came again; she watched;\\na furtive glance told her worlds—and then her heart broke, and she was\\njealous, and angry, and the tears came and she hated everybody',\n",
       " ' tom most\\nof all (she thought)',\n",
       " '\\n\\ntom was introduced to the judge; but his tongue was tied, his breath\\nwould hardly come, his heart quaked—partly because of the awful\\ngreatness of the man, but mainly because he was her parent',\n",
       " ' he would\\nhave liked to fall down and worship him, if it were in the dark',\n",
       " ' the\\njudge put his hand on tom’s head and called him a fine little man, and\\nasked him what his name was',\n",
       " ' the boy stammered, gasped, and got it out:\\n\\n“tom',\n",
       " '”\\n\\n“oh, no, not tom—it is—”\\n\\n“thomas',\n",
       " '”\\n\\n“ah, that’s it',\n",
       " ' i thought there was more to it, maybe',\n",
       " ' that’s very well',\n",
       " '\\nbut you’ve another one i daresay, and you’ll tell it to me, won’t you?”\\n\\n“tell the gentleman your other name, thomas,” said walters, “and say\\nsir',\n",
       " ' you mustn’t forget your manners',\n",
       " '”\\n\\n“thomas sawyer—sir',\n",
       " '”\\n\\n“that’s it! that’s a good boy',\n",
       " ' fine boy',\n",
       " ' fine, manly little fellow',\n",
       " ' two\\nthousand verses is a great many—very, very great many',\n",
       " ' and you never can\\nbe sorry for the trouble you took to learn them; for knowledge is worth\\nmore than anything there is in the world; it’s what makes great men\\nand good men; you’ll be a great man and a good man yourself, some\\nday, thomas, and then you’ll look back and say, it’s all owing to the\\nprecious sunday-school privileges of my boyhood—it’s all owing to\\nmy dear teachers that taught me to learn—it’s all owing to the good\\nsuperintendent, who encouraged me, and watched over me, and gave me a\\nbeautiful bible—a splendid elegant bible—to keep and have it all for my\\nown, always—it’s all owing to right bringing up! that is what you will\\nsay, thomas—and you wouldn’t take any money for those two thousand\\nverses—no indeed you wouldn’t',\n",
       " ' and now you wouldn’t mind telling me and\\nthis lady some of the things you’ve learned—no, i know you wouldn’t—for\\nwe are proud of little boys that learn',\n",
       " ' now, no doubt you know the names\\nof all the twelve disciples',\n",
       " ' won’t you tell us the names of the first\\ntwo that were appointed?”\\n\\ntom was tugging at a button-hole and looking sheepish',\n",
       " ' he blushed,\\nnow, and his eyes fell',\n",
       " ' mr',\n",
       " ' walters’ heart sank within him',\n",
       " ' he said\\nto himself, it is not possible that the boy can answer the simplest\\nquestion—why _did_ the judge ask him? yet he felt obliged to speak up\\nand say:\\n\\n“answer the gentleman, thomas—don’t be afraid',\n",
       " '”\\n\\ntom still hung fire',\n",
       " '\\n\\n“now i know you’ll tell me,” said the lady',\n",
       " ' “the names of the first two\\ndisciples were—”\\n\\n“_david and goliah!_”\\n\\nlet us draw the curtain of charity over the rest of the scene',\n",
       " '\\n\\n\\nabout half-past ten the cracked bell of the small church began to ring,\\nand presently the people began to gather for the morning sermon',\n",
       " ' the\\nsunday-school children distributed themselves about the house and\\noccupied pews with their parents, so as to be under supervision',\n",
       " ' aunt\\npolly came, and tom and sid and mary sat with her—tom being placed next\\nthe aisle, in order that he might be as far away from the open window\\nand the seductive outside summer scenes as possible',\n",
       " ' the crowd filed up\\nthe aisles: the aged and needy postmaster, who had seen better days;\\nthe mayor and his wife—for they had a mayor there, among other\\nunnecessaries; the justice of the peace; the widow douglas, fair,\\nsmart, and forty, a generous, good-hearted soul and well-to-do, her hill\\nmansion the only palace in the town, and the most hospitable and much\\nthe most lavish in the matter of festivities that st',\n",
       " ' petersburg could\\nboast; the bent and venerable major and mrs',\n",
       " ' ward; lawyer riverson, the\\nnew notable from a distance; next the belle of the village, followed by\\na troop of lawn-clad and ribbon-decked young heart-breakers; then all\\nthe young clerks in town in a body—for they had stood in the vestibule\\nsucking their cane-heads, a circling wall of oiled and simpering\\nadmirers, till the last girl had run their gantlet; and last of all came\\nthe model boy, willie mufferson, taking as heedful care of his mother as\\nif she were cut glass',\n",
       " ' he always brought his mother to church, and was\\nthe pride of all the matrons',\n",
       " ' the boys all hated him, he was so\\ngood',\n",
       " ' and besides, he had been “thrown up to them” so much',\n",
       " ' his\\nwhite handkerchief was hanging out of his pocket behind, as usual on\\nsundays—accidentally',\n",
       " ' tom had no handkerchief, and he looked upon boys\\nwho had as snobs',\n",
       " '\\n\\nthe congregation being fully assembled, now, the bell rang once more,\\nto warn laggards and stragglers, and then a solemn hush fell upon the\\nchurch which was only broken by the tittering and whispering of the\\nchoir in the gallery',\n",
       " ' the choir always tittered and whispered all\\nthrough service',\n",
       " ' there was once a church choir that was not ill-bred,\\nbut i have forgotten where it was, now',\n",
       " ' it was a great many years ago,\\nand i can scarcely remember anything about it, but i think it was in\\nsome foreign country',\n",
       " '\\n\\nthe minister gave out the hymn, and read it through with a relish, in a\\npeculiar style which was much admired in that part of the country',\n",
       " ' his\\nvoice began on a medium key and climbed steadily up till it reached a\\ncertain point, where it bore with strong emphasis upon the topmost word\\nand then plunged down as if from a spring-board:\\n\\n  shall i be car-ri-ed toe the skies, on flow’ry _beds_\\n                                                        of ease,\\n\\n  whilst others fight to win the prize, and sail thro’ _blood_\\n                                                        -y seas?\\n\\nhe was regarded as a wonderful reader',\n",
       " ' at church “sociables” he was\\nalways called upon to read poetry; and when he was through, the ladies\\nwould lift up their hands and let them fall helplessly in their laps,\\nand “wall” their eyes, and shake their heads, as much as to say, “words\\ncannot express it; it is too beautiful, too beautiful for this mortal\\nearth',\n",
       " '”\\n\\nafter the hymn had been sung, the rev',\n",
       " ' mr',\n",
       " ' sprague turned himself into\\na bulletin-board, and read off “notices” of meetings and societies and\\nthings till it seemed that the list would stretch out to the crack of\\ndoom—a queer custom which is still kept up in america, even in cities,\\naway here in this age of abundant newspapers',\n",
       " ' often, the less there is\\nto justify a traditional custom, the harder it is to get rid of it',\n",
       " '\\n\\nand now the minister prayed',\n",
       " ' a good, generous prayer it was, and went\\ninto details: it pleaded for the church, and the little children of the\\nchurch; for the other churches of the village; for the village itself;\\nfor the county; for the state; for the state officers; for the united\\nstates; for the churches of the united states; for congress; for the\\npresident; for the officers of the government; for poor sailors, tossed\\nby stormy seas; for the oppressed millions groaning under the heel of\\neuropean monarchies and oriental despotisms; for such as have the light\\nand the good tidings, and yet have not eyes to see nor ears to hear\\nwithal; for the heathen in the far islands of the sea; and closed with\\na supplication that the words he was about to speak might find grace\\nand favor, and be as seed sown in fertile ground, yielding in time a\\ngrateful harvest of good',\n",
       " ' amen',\n",
       " '\\n\\nthere was a rustling of dresses, and the standing congregation sat down',\n",
       " '\\nthe boy whose history this book relates did not enjoy the prayer, he\\nonly endured it—if he even did that much',\n",
       " ' he was restive all through it;\\nhe kept tally of the details of the prayer, unconsciously—for he was not\\nlistening, but he knew the ground of old, and the clergyman’s regular\\nroute over it—and when a little trifle of new matter was interlarded,\\nhis ear detected it and his whole nature resented it; he considered\\nadditions unfair, and scoundrelly',\n",
       " ' in the midst of the prayer a fly had\\nlit on the back of the pew in front of him and tortured his spirit by\\ncalmly rubbing its hands together, embracing its head with its arms, and\\npolishing it so vigorously that it seemed to almost part company with\\nthe body, and the slender thread of a neck was exposed to view; scraping\\nits wings with its hind legs and smoothing them to its body as if they\\nhad been coat-tails; going through its whole toilet as tranquilly as if\\nit knew it was perfectly safe',\n",
       " ' as indeed it was; for as sorely as tom’s\\nhands itched to grab for it they did not dare—he believed his soul would\\nbe instantly destroyed if he did such a thing while the prayer was going\\non',\n",
       " ' but with the closing sentence his hand began to curve and steal\\nforward; and the instant the “amen” was out the fly was a prisoner of\\nwar',\n",
       " ' his aunt detected the act and made him let it go',\n",
       " '\\n\\nthe minister gave out his text and droned along monotonously through an\\nargument that was so prosy that many a head by and by began to nod—and\\nyet it was an argument that dealt in limitless fire and brimstone and\\nthinned the predestined elect down to a company so small as to be hardly\\nworth the saving',\n",
       " ' tom counted the pages of the sermon; after church he\\nalways knew how many pages there had been, but he seldom knew anything\\nelse about the discourse',\n",
       " ' however, this time he was really interested\\nfor a little while',\n",
       " ' the minister made a grand and moving picture of the\\nassembling together of the world’s hosts at the millennium when the lion\\nand the lamb should lie down together and a little child should lead\\nthem',\n",
       " ' but the pathos, the lesson, the moral of the great spectacle\\nwere lost upon the boy; he only thought of the conspicuousness of the\\nprincipal character before the on-looking nations; his face lit with the\\nthought, and he said to himself that he wished he could be that child,\\nif it was a tame lion',\n",
       " '\\n\\nnow he lapsed into suffering again, as the dry argument was resumed',\n",
       " '\\npresently he bethought him of a treasure he had and got it out',\n",
       " ' it was\\na large black beetle with formidable jaws—a “pinchbug,” he called it',\n",
       " ' it\\nwas in a percussion-cap box',\n",
       " ' the first thing the beetle did was to\\ntake him by the finger',\n",
       " ' a natural fillip followed, the beetle went\\nfloundering into the aisle and lit on its back, and the hurt finger went\\ninto the boy’s mouth',\n",
       " ' the beetle lay there working its helpless legs,\\nunable to turn over',\n",
       " ' tom eyed it, and longed for it; but it was safe out\\nof his reach',\n",
       " ' other people uninterested in the sermon found relief in\\nthe beetle, and they eyed it too',\n",
       " ' presently a vagrant poodle dog came\\nidling along, sad at heart, lazy with the summer softness and the\\nquiet, weary of captivity, sighing for change',\n",
       " ' he spied the beetle; the\\ndrooping tail lifted and wagged',\n",
       " ' he surveyed the prize; walked around\\nit; smelt at it from a safe distance; walked around it again; grew\\nbolder, and took a closer smell; then lifted his lip and made a gingerly\\nsnatch at it, just missing it; made another, and another; began to enjoy\\nthe diversion; subsided to his stomach with the beetle between his paws,\\nand continued his experiments; grew weary at last, and then indifferent\\nand absent-minded',\n",
       " ' his head nodded, and little by little his chin\\ndescended and touched the enemy, who seized it',\n",
       " ' there was a sharp yelp,\\na flirt of the poodle’s head, and the beetle fell a couple of yards\\naway, and lit on its back once more',\n",
       " ' the neighboring spectators\\nshook with a gentle inward joy, several faces went behind fans and\\nhand-kerchiefs, and tom was entirely happy',\n",
       " ' the dog looked foolish,\\nand probably felt so; but there was resentment in his heart, too, and a\\ncraving for revenge',\n",
       " ' so he went to the beetle and began a wary attack on\\nit again; jumping at it from every point of a circle, lighting with his\\nfore-paws within an inch of the creature, making even closer snatches at\\nit with his teeth, and jerking his head till his ears flapped again',\n",
       " ' but\\nhe grew tired once more, after a while; tried to amuse himself with a\\nfly but found no relief; followed an ant around, with his nose close\\nto the floor, and quickly wearied of that; yawned, sighed, forgot the\\nbeetle entirely, and sat down on it',\n",
       " ' then there was a wild yelp of agony\\nand the poodle went sailing up the aisle; the yelps continued, and so\\ndid the dog; he crossed the house in front of the altar; he flew\\ndown the other aisle; he crossed before the doors; he clamored up the\\nhome-stretch; his anguish grew with his progress, till presently he was\\nbut a woolly comet moving in its orbit with the gleam and the speed of\\nlight',\n",
       " ' at last the frantic sufferer sheered from its course, and sprang\\ninto its master’s lap; he flung it out of the window, and the voice of\\ndistress quickly thinned away and died in the distance',\n",
       " '\\n\\nby this time the whole church was red-faced and suffocating with\\nsuppressed laughter, and the sermon had come to a dead standstill',\n",
       " '\\nthe discourse was resumed presently, but it went lame and halting, all\\npossibility of impressiveness being at an end; for even the gravest\\nsentiments were constantly being received with a smothered burst of\\nunholy mirth, under cover of some remote pew-back, as if the poor parson\\nhad said a rarely facetious thing',\n",
       " ' it was a genuine relief to the whole\\ncongregation when the ordeal was over and the benediction pronounced',\n",
       " '\\n\\ntom sawyer went home quite cheerful, thinking to himself that there was\\nsome satisfaction about divine service when there was a bit of variety\\nin it',\n",
       " ' he had but one marring thought; he was willing that the dog\\nshould play with his pinchbug, but he did not think it was upright in\\nhim to carry it off',\n",
       " '\\n\\n\\n\\nmonday morning found tom sawyer miserable',\n",
       " ' monday morning always found\\nhim so—because it began another week’s slow suffering in school',\n",
       " ' he\\ngenerally began that day with wishing he had had no intervening holiday,\\nit made the going into captivity and fetters again so much more odious',\n",
       " '\\n\\ntom lay thinking',\n",
       " ' presently it occurred to him that he wished he was\\nsick; then he could stay home from school',\n",
       " ' here was a vague possibility',\n",
       " '\\nhe canvassed his system',\n",
       " ' no ailment was found, and he investigated\\nagain',\n",
       " ' this time he thought he could detect colicky symptoms, and he\\nbegan to encourage them with considerable hope',\n",
       " ' but they soon grew\\nfeeble, and presently died wholly away',\n",
       " ' he reflected further',\n",
       " ' suddenly\\nhe discovered something',\n",
       " ' one of his upper front teeth was loose',\n",
       " ' this\\nwas lucky; he was about to begin to groan, as a “starter,” as he\\ncalled it, when it occurred to him that if he came into court with that\\nargument, his aunt would pull it out, and that would hurt',\n",
       " ' so he thought\\nhe would hold the tooth in reserve for the present, and seek further',\n",
       " '\\nnothing offered for some little time, and then he remembered hearing\\nthe doctor tell about a certain thing that laid up a patient for two or\\nthree weeks and threatened to make him lose a finger',\n",
       " ' so the boy eagerly\\ndrew his sore toe from under the sheet and held it up for inspection',\n",
       " '\\nbut now he did not know the necessary symptoms',\n",
       " ' however, it seemed\\nwell worth while to chance it, so he fell to groaning with considerable\\nspirit',\n",
       " '\\n\\nbut sid slept on unconscious',\n",
       " '\\n\\ntom groaned louder, and fancied that he began to feel pain in the toe',\n",
       " '\\n\\nno result from sid',\n",
       " '\\n\\ntom was panting with his exertions by this time',\n",
       " ' he took a rest and then\\nswelled himself up and fetched a succession of admirable groans',\n",
       " '\\n\\nsid snored on',\n",
       " '\\n\\ntom was aggravated',\n",
       " ' he said, “sid, sid!” and shook him',\n",
       " ' this course\\nworked well, and tom began to groan again',\n",
       " ' sid yawned, stretched, then\\nbrought himself up on his elbow with a snort, and began to stare at tom',\n",
       " '\\ntom went on groaning',\n",
       " ' sid said:\\n\\n“tom! say, tom!” [no response',\n",
       " '] “here, tom! tom! what is the matter,\\ntom?” and he shook him and looked in his face anxiously',\n",
       " '\\n\\ntom moaned out:\\n\\n“oh, don’t, sid',\n",
       " ' don’t joggle me',\n",
       " '”\\n\\n“why, what’s the matter, tom? i must call auntie',\n",
       " '”\\n\\n“no—never mind',\n",
       " ' it’ll be over by and by, maybe',\n",
       " ' don’t call anybody',\n",
       " '”\\n\\n“but i must! _don’t_ groan so, tom, it’s awful',\n",
       " ' how long you been this\\nway?”\\n\\n“hours',\n",
       " ' ouch! oh, don’t stir so, sid, you’ll kill me',\n",
       " '”\\n\\n“tom, why didn’t you wake me sooner? oh, tom, _don’t!_ it makes my flesh\\ncrawl to hear you',\n",
       " ' tom, what is the matter?”\\n\\n“i forgive you everything, sid',\n",
       " ' [groan',\n",
       " '] everything you’ve ever done to\\nme',\n",
       " ' when i’m gone—”\\n\\n“oh, tom, you ain’t dying, are you? don’t, tom—oh, don’t',\n",
       " ' maybe—”\\n\\n“i forgive everybody, sid',\n",
       " ' [groan',\n",
       " '] tell ’em so, sid',\n",
       " ' and sid, you give\\nmy window-sash and my cat with one eye to that new girl that’s come to\\ntown, and tell her—”\\n\\nbut sid had snatched his clothes and gone',\n",
       " ' tom was suffering in reality,\\nnow, so handsomely was his imagination working, and so his groans had\\ngathered quite a genuine tone',\n",
       " '\\n\\nsid flew downstairs and said:\\n\\n“oh, aunt polly, come! tom’s dying!”\\n\\n“dying!”\\n\\n“yes’m',\n",
       " ' don’t wait—come quick!”\\n\\n“rubbage! i don’t believe it!”\\n\\nbut she fled upstairs, nevertheless, with sid and mary at her heels',\n",
       " '\\nand her face grew white, too, and her lip trembled',\n",
       " ' when she reached the\\nbedside she gasped out:\\n\\n“you, tom! tom, what’s the matter with you?”\\n\\n“oh, auntie, i’m—”\\n\\n“what’s the matter with you—what is the matter with you, child?”\\n\\n“oh, auntie, my sore toe’s mortified!”\\n\\nthe old lady sank down into a chair and laughed a little, then cried a\\nlittle, then did both together',\n",
       " ' this restored her and she said:\\n\\n“tom, what a turn you did give me',\n",
       " ' now you shut up that nonsense and\\nclimb out of this',\n",
       " '”\\n\\nthe groans ceased and the pain vanished from the toe',\n",
       " ' the boy felt a\\nlittle foolish, and he said:\\n\\n“aunt polly, it _seemed_ mortified, and it hurt so i never minded my\\ntooth at all',\n",
       " '”\\n\\n“your tooth, indeed! what’s the matter with your tooth?”\\n\\n“one of them’s loose, and it aches perfectly awful',\n",
       " '”\\n\\n“there, there, now, don’t begin that groaning again',\n",
       " ' open your mouth',\n",
       " '\\nwell—your tooth _is_ loose, but you’re not going to die about that',\n",
       " '\\nmary, get me a silk thread, and a chunk of fire out of the kitchen',\n",
       " '”\\n\\ntom said:\\n\\n“oh, please, auntie, don’t pull it out',\n",
       " ' it don’t hurt any more',\n",
       " ' i wish\\ni may never stir if it does',\n",
       " ' please don’t, auntie',\n",
       " ' i don’t want to stay\\nhome from school',\n",
       " '”\\n\\n“oh, you don’t, don’t you? so all this row was because you thought you’d\\nget to stay home from school and go a-fishing? tom, tom, i love you so,\\nand you seem to try every way you can to break my old heart with your\\noutrageousness',\n",
       " '” by this time the dental instruments were ready',\n",
       " ' the old\\nlady made one end of the silk thread fast to tom’s tooth with a loop\\nand tied the other to the bedpost',\n",
       " ' then she seized the chunk of fire and\\nsuddenly thrust it almost into the boy’s face',\n",
       " ' the tooth hung dangling\\nby the bedpost, now',\n",
       " '\\n\\nbut all trials bring their compensations',\n",
       " ' as tom wended to school after\\nbreakfast, he was the envy of every boy he met because the gap in his\\nupper row of teeth enabled him to expectorate in a new and admirable\\nway',\n",
       " ' he gathered quite a following of lads interested in the exhibition;\\nand one that had cut his finger and had been a centre of fascination and\\nhomage up to this time, now found himself suddenly without an adherent,\\nand shorn of his glory',\n",
       " ' his heart was heavy, and he said with a disdain\\nwhich he did not feel that it wasn’t anything to spit like tom sawyer;\\nbut another boy said, “sour grapes!” and he wandered away a dismantled\\nhero',\n",
       " '\\n\\nshortly tom came upon the juvenile pariah of the village, huckleberry\\nfinn, son of the town drunkard',\n",
       " ' huckleberry was cordially hated and\\ndreaded by all the mothers of the town, because he was idle and lawless\\nand vulgar and bad—and because all their children admired him so, and\\ndelighted in his forbidden society, and wished they dared to be like\\nhim',\n",
       " ' tom was like the rest of the respectable boys, in that he envied\\nhuckleberry his gaudy outcast condition, and was under strict orders\\nnot to play with him',\n",
       " ' so he played with him every time he got a chance',\n",
       " '\\nhuckleberry was always dressed in the cast-off clothes of full-grown\\nmen, and they were in perennial bloom and fluttering with rags',\n",
       " ' his hat\\nwas a vast ruin with a wide crescent lopped out of its brim; his coat,\\nwhen he wore one, hung nearly to his heels and had the rearward buttons\\nfar down the back; but one suspender supported his trousers; the seat of\\nthe trousers bagged low and contained nothing, the fringed legs dragged\\nin the dirt when not rolled up',\n",
       " '\\n\\nhuckleberry came and went, at his own free will',\n",
       " ' he slept on doorsteps\\nin fine weather and in empty hogsheads in wet; he did not have to go to\\nschool or to church, or call any being master or obey anybody; he could\\ngo fishing or swimming when and where he chose, and stay as long as it\\nsuited him; nobody forbade him to fight; he could sit up as late as he\\npleased; he was always the first boy that went barefoot in the spring\\nand the last to resume leather in the fall; he never had to wash, nor\\nput on clean clothes; he could swear wonderfully',\n",
       " ' in a word, everything\\nthat goes to make life precious that boy had',\n",
       " ' so thought every harassed,\\nhampered, respectable boy in st',\n",
       " ' petersburg',\n",
       " '\\n\\ntom hailed the romantic outcast:\\n\\n“hello, huckleberry!”\\n\\n“hello yourself, and see how you like it',\n",
       " '”\\n\\n“what’s that you got?”\\n\\n“dead cat',\n",
       " '”\\n\\n“lemme see him, huck',\n",
       " ' my, he’s pretty stiff',\n",
       " ' where’d you get him?”\\n\\n“bought him off’n a boy',\n",
       " '”\\n\\n“what did you give?”\\n\\n“i give a blue ticket and a bladder that i got at the slaughter-house',\n",
       " '”\\n\\n“where’d you get the blue ticket?”\\n\\n“bought it off’n ben rogers two weeks ago for a hoop-stick',\n",
       " '”\\n\\n“say—what is dead cats good for, huck?”\\n\\n“good for? cure warts with',\n",
       " '”\\n\\n“no! is that so? i know something that’s better',\n",
       " '”\\n\\n“i bet you don’t',\n",
       " ' what is it?”\\n\\n“why, spunk-water',\n",
       " '”\\n\\n“spunk-water! i wouldn’t give a dern for spunk-water',\n",
       " '”\\n\\n“you wouldn’t, wouldn’t you? d’you ever try it?”\\n\\n“no, i hain’t',\n",
       " ' but bob tanner did',\n",
       " '”\\n\\n“who told you so!”\\n\\n“why, he told jeff thatcher, and jeff told johnny baker, and johnny\\ntold jim hollis, and jim told ben rogers, and ben told a nigger, and the\\nnigger told me',\n",
       " ' there now!”\\n\\n“well, what of it? they’ll all lie',\n",
       " ' leastways all but the nigger',\n",
       " ' i\\ndon’t know _him_',\n",
       " ' but i never see a nigger that _wouldn’t_ lie',\n",
       " ' shucks!\\nnow you tell me how bob tanner done it, huck',\n",
       " '”\\n\\n“why, he took and dipped his hand in a rotten stump where the rain-water\\nwas',\n",
       " '”\\n\\n“in the daytime?”\\n\\n“certainly',\n",
       " '”\\n\\n“with his face to the stump?”\\n\\n“yes',\n",
       " ' least i reckon so',\n",
       " '”\\n\\n“did he say anything?”\\n\\n“i don’t reckon he did',\n",
       " ' i don’t know',\n",
       " '”\\n\\n“aha! talk about trying to cure warts with spunk-water such a blame fool\\nway as that! why, that ain’t a-going to do any good',\n",
       " ' you got to go all\\nby yourself, to the middle of the woods, where you know there’s a\\nspunk-water stump, and just as it’s midnight you back up against the\\nstump and jam your hand in and say:\\n\\n    ‘barley-corn, barley-corn, injun-meal shorts,\\n    spunk-water, spunk-water, swaller these warts,’\\n\\nand then walk away quick, eleven steps, with your eyes shut, and then\\nturn around three times and walk home without speaking to anybody',\n",
       " '\\nbecause if you speak the charm’s busted',\n",
       " '”\\n\\n“well, that sounds like a good way; but that ain’t the way bob tanner\\ndone',\n",
       " '”\\n\\n“no, sir, you can bet he didn’t, becuz he’s the wartiest boy in this\\ntown; and he wouldn’t have a wart on him if he’d knowed how to work\\nspunk-water',\n",
       " ' i’ve took off thousands of warts off of my hands that way,\\nhuck',\n",
       " ' i play with frogs so much that i’ve always got considerable many\\nwarts',\n",
       " ' sometimes i take ’em off with a bean',\n",
       " '”\\n\\n“yes, bean’s good',\n",
       " ' i’ve done that',\n",
       " '”\\n\\n“have you? what’s your way?”\\n\\n“you take and split the bean, and cut the wart so as to get some blood,\\nand then you put the blood on one piece of the bean and take and dig\\na hole and bury it ’bout midnight at the crossroads in the dark of the\\nmoon, and then you burn up the rest of the bean',\n",
       " ' you see that piece\\nthat’s got the blood on it will keep drawing and drawing, trying to\\nfetch the other piece to it, and so that helps the blood to draw the\\nwart, and pretty soon off she comes',\n",
       " '”\\n\\n“yes, that’s it, huck—that’s it; though when you’re burying it if you\\nsay ‘down bean; off wart; come no more to bother me!’ it’s better',\n",
       " '\\nthat’s the way joe harper does, and he’s been nearly to coonville and\\nmost everywheres',\n",
       " ' but say—how do you cure ’em with dead cats?”\\n\\n“why, you take your cat and go and get in the grave-yard ’long about\\nmidnight when somebody that was wicked has been buried; and when it’s\\nmidnight a devil will come, or maybe two or three, but you can’t see\\n’em, you can only hear something like the wind, or maybe hear ’em talk;\\nand when they’re taking that feller away, you heave your cat after ’em\\nand say, ‘devil follow corpse, cat follow devil, warts follow cat, i’m\\ndone with ye!’ that’ll fetch _any_ wart',\n",
       " '”\\n\\n“sounds right',\n",
       " ' d’you ever try it, huck?”\\n\\n“no, but old mother hopkins told me',\n",
       " '”\\n\\n“well, i reckon it’s so, then',\n",
       " ' becuz they say she’s a witch',\n",
       " '”\\n\\n“say! why, tom, i _know_ she is',\n",
       " ' she witched pap',\n",
       " ' pap says so his own\\nself',\n",
       " ' he come along one day, and he see she was a-witching him, so he\\ntook up a rock, and if she hadn’t dodged, he’d a got her',\n",
       " ' well, that\\nvery night he rolled off’n a shed wher’ he was a layin drunk, and broke\\nhis arm',\n",
       " '”\\n\\n“why, that’s awful',\n",
       " ' how did he know she was a-witching him?”\\n\\n“lord, pap can tell, easy',\n",
       " ' pap says when they keep looking at you right\\nstiddy, they’re a-witching you',\n",
       " ' specially if they mumble',\n",
       " ' becuz when\\nthey mumble they’re saying the lord’s prayer backards',\n",
       " '”\\n\\n“say, hucky, when you going to try the cat?”\\n\\n“to-night',\n",
       " ' i reckon they’ll come after old hoss williams to-night',\n",
       " '”\\n\\n“but they buried him saturday',\n",
       " ' didn’t they get him saturday night?”\\n\\n“why, how you talk! how could their charms work till midnight?—and\\n_then_ it’s sunday',\n",
       " ' devils don’t slosh around much of a sunday, i don’t\\nreckon',\n",
       " '”\\n\\n“i never thought of that',\n",
       " ' that’s so',\n",
       " ' lemme go with you?”\\n\\n“of course—if you ain’t afeard',\n",
       " '”\\n\\n“afeard! ’tain’t likely',\n",
       " ' will you meow?”\\n\\n“yes—and you meow back, if you get a chance',\n",
       " ' last time, you kep’ me\\na-meowing around till old hays went to throwing rocks at me and says\\n‘dern that cat!’ and so i hove a brick through his window—but don’t you\\ntell',\n",
       " '”\\n\\n“i won’t',\n",
       " ' i couldn’t meow that night, becuz auntie was watching me, but\\ni’ll meow this time',\n",
       " ' say—what’s that?”\\n\\n“nothing but a tick',\n",
       " '”\\n\\n“where’d you get him?”\\n\\n“out in the woods',\n",
       " '”\\n\\n“what’ll you take for him?”\\n\\n“i don’t know',\n",
       " ' i don’t want to sell him',\n",
       " '”\\n\\n“all right',\n",
       " ' it’s a mighty small tick, anyway',\n",
       " '”\\n\\n“oh, anybody can run a tick down that don’t belong to them',\n",
       " ' i’m\\nsatisfied with it',\n",
       " ' it’s a good enough tick for me',\n",
       " '”\\n\\n“sho, there’s ticks a plenty',\n",
       " ' i could have a thousand of ’em if i wanted\\nto',\n",
       " '”\\n\\n“well, why don’t you? becuz you know mighty well you can’t',\n",
       " ' this is a\\npretty early tick, i reckon',\n",
       " ' it’s the first one i’ve seen this year',\n",
       " '”\\n\\n“say, huck—i’ll give you my tooth for him',\n",
       " '”\\n\\n“less see it',\n",
       " '”\\n\\ntom got out a bit of paper and carefully unrolled it',\n",
       " ' huckleberry viewed\\nit wistfully',\n",
       " ' the temptation was very strong',\n",
       " ' at last he said:\\n\\n“is it genuwyne?”\\n\\ntom lifted his lip and showed the vacancy',\n",
       " '\\n\\n“well, all right,” said huckleberry, “it’s a trade',\n",
       " '”\\n\\ntom enclosed the tick in the percussion-cap box that had lately been the\\npinchbug’s prison, and the boys separated, each feeling wealthier than\\nbefore',\n",
       " '\\n\\nwhen tom reached the little isolated frame school-house, he strode in\\nbriskly, with the manner of one who had come with all honest speed',\n",
       " ' he\\nhung his hat on a peg and flung himself into his seat with business-like\\nalacrity',\n",
       " ' the master, throned on high in his great splint-bottom\\narm-chair, was dozing, lulled by the drowsy hum of study',\n",
       " ' the\\ninterruption roused him',\n",
       " '\\n\\n“thomas sawyer!”\\n\\ntom knew that when his name was pronounced in full, it meant trouble',\n",
       " '\\n\\n“sir!”\\n\\n“come up here',\n",
       " ' now, sir, why are you late again, as usual?”\\n\\ntom was about to take refuge in a lie, when he saw two long tails of\\nyellow hair hanging down a back that he recognized by the electric\\nsympathy of love; and by that form was _the only vacant place_ on the\\ngirls’ side of the school-house',\n",
       " ' he instantly said:\\n\\n“_i stopped to talk with huckleberry finn!_”\\n\\nthe master’s pulse stood still, and he stared helplessly',\n",
       " ' the buzz of\\nstudy ceased',\n",
       " ' the pupils wondered if this foolhardy boy had lost his\\nmind',\n",
       " ' the master said:\\n\\n“you—you did what?”\\n\\n“stopped to talk with huckleberry finn',\n",
       " '”\\n\\nthere was no mistaking the words',\n",
       " '\\n\\n“thomas sawyer, this is the most astounding confession i have ever\\nlistened to',\n",
       " ' no mere ferule will answer for this offence',\n",
       " ' take off your\\njacket',\n",
       " '”\\n\\nthe master’s arm performed until it was tired and the stock of switches\\nnotably diminished',\n",
       " ' then the order followed:\\n\\n“now, sir, go and sit with the girls! and let this be a warning to you',\n",
       " '”\\n\\nthe titter that rippled around the room appeared to abash the boy, but\\nin reality that result was caused rather more by his worshipful awe\\nof his unknown idol and the dread pleasure that lay in his high good\\nfortune',\n",
       " ' he sat down upon the end of the pine bench and the girl hitched\\nherself away from him with a toss of her head',\n",
       " ' nudges and winks and\\nwhispers traversed the room, but tom sat still, with his arms upon the\\nlong, low desk before him, and seemed to study his book',\n",
       " '\\n\\nby and by attention ceased from him, and the accustomed school murmur\\nrose upon the dull air once more',\n",
       " ' presently the boy began to steal\\nfurtive glances at the girl',\n",
       " ' she observed it, “made a mouth” at him\\nand gave him the back of her head for the space of a minute',\n",
       " ' when she\\ncautiously faced around again, a peach lay before her',\n",
       " ' she thrust it\\naway',\n",
       " ' tom gently put it back',\n",
       " ' she thrust it away again, but with less\\nanimosity',\n",
       " ' tom patiently returned it to its place',\n",
       " ' then she let it\\nremain',\n",
       " ' tom scrawled on his slate, “please take it—i got more',\n",
       " '” the\\ngirl glanced at the words, but made no sign',\n",
       " ' now the boy began to draw\\nsomething on the slate, hiding his work with his left hand',\n",
       " ' for a time\\nthe girl refused to notice; but her human curiosity presently began\\nto manifest itself by hardly perceptible signs',\n",
       " ' the boy worked on,\\napparently unconscious',\n",
       " ' the girl made a sort of non-committal attempt\\nto see, but the boy did not betray that he was aware of it',\n",
       " ' at last she\\ngave in and hesitatingly whispered:\\n\\n“let me see it',\n",
       " '”\\n\\ntom partly uncovered a dismal caricature of a house with two gable ends\\nto it and a corkscrew of smoke issuing from the chimney',\n",
       " ' then the girl’s\\ninterest began to fasten itself upon the work and she forgot everything\\nelse',\n",
       " ' when it was finished, she gazed a moment, then whispered:\\n\\n“it’s nice—make a man',\n",
       " '”\\n\\nthe artist erected a man in the front yard, that resembled a derrick',\n",
       " ' he\\ncould have stepped over the house; but the girl was not hypercritical;\\nshe was satisfied with the monster, and whispered:\\n\\n“it’s a beautiful man—now make me coming along',\n",
       " '”\\n\\ntom drew an hour-glass with a full moon and straw limbs to it and armed\\nthe spreading fingers with a portentous fan',\n",
       " ' the girl said:\\n\\n“it’s ever so nice—i wish i could draw',\n",
       " '”\\n\\n“it’s easy,” whispered tom, “i’ll learn you',\n",
       " '”\\n\\n“oh, will you? when?”\\n\\n“at noon',\n",
       " ' do you go home to dinner?”\\n\\n“i’ll stay if you will',\n",
       " '”\\n\\n“good—that’s a whack',\n",
       " ' what’s your name?”\\n\\n“becky thatcher',\n",
       " ' what’s yours? oh, i know',\n",
       " ' it’s thomas sawyer',\n",
       " '”\\n\\n“that’s the name they lick me by',\n",
       " ' i’m tom when i’m good',\n",
       " ' you call me\\ntom, will you?”\\n\\n“yes',\n",
       " '”\\n\\nnow tom began to scrawl something on the slate, hiding the words from\\nthe girl',\n",
       " ' but she was not backward this time',\n",
       " ' she begged to see',\n",
       " ' tom\\nsaid:\\n\\n“oh, it ain’t anything',\n",
       " '”\\n\\n“yes it is',\n",
       " '”\\n\\n“no it ain’t',\n",
       " ' you don’t want to see',\n",
       " '”\\n\\n“yes i do, indeed i do',\n",
       " ' please let me',\n",
       " '”\\n\\n“you’ll tell',\n",
       " '”\\n\\n“no i won’t—deed and deed and double deed won’t',\n",
       " '”\\n\\n“you won’t tell anybody at all? ever, as long as you live?”\\n\\n“no, i won’t ever tell _any_body',\n",
       " ' now let me',\n",
       " '”\\n\\n“oh, _you_ don’t want to see!”\\n\\n“now that you treat me so, i _will_ see',\n",
       " '” and she put her small hand\\nupon his and a little scuffle ensued, tom pretending to resist in\\nearnest but letting his hand slip by degrees till these words were\\nrevealed: “_i love you_',\n",
       " '”\\n\\n“oh, you bad thing!” and she hit his hand a smart rap, but reddened and\\nlooked pleased, nevertheless',\n",
       " '\\n\\njust at this juncture the boy felt a slow, fateful grip closing on his\\near, and a steady lifting impulse',\n",
       " ' in that wise he was borne across the\\nhouse and deposited in his own seat, under a peppering fire of giggles\\nfrom the whole school',\n",
       " ' then the master stood over him during a few awful\\nmoments, and finally moved away to his throne without saying a word',\n",
       " ' but\\nalthough tom’s ear tingled, his heart was jubilant',\n",
       " '\\n\\nas the school quieted down tom made an honest effort to study, but\\nthe turmoil within him was too great',\n",
       " ' in turn he took his place in the\\nreading class and made a botch of it; then in the geography class and\\nturned lakes into mountains, mountains into rivers, and rivers into\\ncontinents, till chaos was come again; then in the spelling class, and\\ngot “turned down,” by a succession of mere baby words, till he brought\\nup at the foot and yielded up the pewter medal which he had worn with\\nostentation for months',\n",
       " '\\n\\n\\nthe harder tom tried to fasten his mind on his book, the more his ideas\\nwandered',\n",
       " ' so at last, with a sigh and a yawn, he gave it up',\n",
       " ' it seemed\\nto him that the noon recess would never come',\n",
       " ' the air was utterly dead',\n",
       " '\\nthere was not a breath stirring',\n",
       " ' it was the sleepiest of sleepy days',\n",
       " '\\nthe drowsing murmur of the five and twenty studying scholars soothed\\nthe soul like the spell that is in the murmur of bees',\n",
       " ' away off in the\\nflaming sunshine, cardiff hill lifted its soft green sides through a\\nshimmering veil of heat, tinted with the purple of distance; a few birds\\nfloated on lazy wing high in the air; no other living thing was visible\\nbut some cows, and they were asleep',\n",
       " ' tom’s heart ached to be free, or\\nelse to have something of interest to do to pass the dreary time',\n",
       " '\\nhis hand wandered into his pocket and his face lit up with a glow of\\ngratitude that was prayer, though he did not know it',\n",
       " ' then furtively\\nthe percussion-cap box came out',\n",
       " ' he released the tick and put him on\\nthe long flat desk',\n",
       " ' the creature probably glowed with a gratitude that\\namounted to prayer, too, at this moment, but it was premature: for when\\nhe started thankfully to travel off, tom turned him aside with a pin and\\nmade him take a new direction',\n",
       " '\\n\\ntom’s bosom friend sat next him, suffering just as tom had been, and\\nnow he was deeply and gratefully interested in this entertainment in\\nan instant',\n",
       " ' this bosom friend was joe harper',\n",
       " ' the two boys were sworn\\nfriends all the week, and embattled enemies on saturdays',\n",
       " ' joe took a\\npin out of his lapel and began to assist in exercising the prisoner',\n",
       " '\\nthe sport grew in interest momently',\n",
       " ' soon tom said that they were\\ninterfering with each other, and neither getting the fullest benefit\\nof the tick',\n",
       " ' so he put joe’s slate on the desk and drew a line down the\\nmiddle of it from top to bottom',\n",
       " '\\n\\n“now,” said he, “as long as he is on your side you can stir him up and\\ni’ll let him alone; but if you let him get away and get on my side,\\nyou’re to leave him alone as long as i can keep him from crossing over',\n",
       " '”\\n\\n“all right, go ahead; start him up',\n",
       " '”\\n\\nthe tick escaped from tom, presently, and crossed the equator',\n",
       " ' joe\\nharassed him awhile, and then he got away and crossed back again',\n",
       " ' this\\nchange of base occurred often',\n",
       " ' while one boy was worrying the tick with\\nabsorbing interest, the other would look on with interest as strong, the\\ntwo heads bowed together over the slate, and the two souls dead to all\\nthings else',\n",
       " ' at last luck seemed to settle and abide with joe',\n",
       " ' the\\ntick tried this, that, and the other course, and got as excited and as\\nanxious as the boys themselves, but time and again just as he would\\nhave victory in his very grasp, so to speak, and tom’s fingers would\\nbe twitching to begin, joe’s pin would deftly head him off, and keep\\npossession',\n",
       " ' at last tom could stand it no longer',\n",
       " ' the temptation was too\\nstrong',\n",
       " ' so he reached out and lent a hand with his pin',\n",
       " ' joe was angry in\\na moment',\n",
       " ' said he:\\n\\n“tom, you let him alone',\n",
       " '”\\n\\n“i only just want to stir him up a little, joe',\n",
       " '”\\n\\n“no, sir, it ain’t fair; you just let him alone',\n",
       " '”\\n\\n“blame it, i ain’t going to stir him much',\n",
       " '”\\n\\n“let him alone, i tell you',\n",
       " '”\\n\\n“i won’t!”\\n\\n“you shall—he’s on my side of the line',\n",
       " '”\\n\\n“look here, joe harper, whose is that tick?”\\n\\n“i don’t care whose tick he is—he’s on my side of the line, and you\\nsha’n’t touch him',\n",
       " '”\\n\\n“well, i’ll just bet i will, though',\n",
       " ' he’s my tick and i’ll do what i\\nblame please with him, or die!”\\n\\na tremendous whack came down on tom’s shoulders, and its duplicate on\\njoe’s; and for the space of two minutes the dust continued to fly from\\nthe two jackets and the whole school to enjoy it',\n",
       " ' the boys had been\\ntoo absorbed to notice the hush that had stolen upon the school awhile\\nbefore when the master came tiptoeing down the room and stood over them',\n",
       " '\\nhe had contemplated a good part of the performance before he contributed\\nhis bit of variety to it',\n",
       " '\\n\\nwhen school broke up at noon, tom flew to becky thatcher, and whispered\\nin her ear:\\n\\n“put on your bonnet and let on you’re going home; and when you get to\\nthe corner, give the rest of ’em the slip, and turn down through the\\nlane and come back',\n",
       " ' i’ll go the other way and come it over ’em the same\\nway',\n",
       " '”\\n\\nso the one went off with one group of scholars, and the other with\\nanother',\n",
       " ' in a little while the two met at the bottom of the lane, and\\nwhen they reached the school they had it all to themselves',\n",
       " ' then they\\nsat together, with a slate before them, and tom gave becky the pencil\\nand held her hand in his, guiding it, and so created another surprising\\nhouse',\n",
       " ' when the interest in art began to wane, the two fell to talking',\n",
       " '\\ntom was swimming in bliss',\n",
       " ' he said:\\n\\n“do you love rats?”\\n\\n“no! i hate them!”\\n\\n“well, i do, too—_live_ ones',\n",
       " ' but i mean dead ones, to swing round your\\nhead with a string',\n",
       " '”\\n\\n“no, i don’t care for rats much, anyway',\n",
       " ' what i like is chewing-gum',\n",
       " '”\\n\\n“oh, i should say so! i wish i had some now',\n",
       " '”\\n\\n“do you? i’ve got some',\n",
       " ' i’ll let you chew it awhile, but you must give\\nit back to me',\n",
       " '”\\n\\nthat was agreeable, so they chewed it turn about, and dangled their legs\\nagainst the bench in excess of contentment',\n",
       " '\\n\\n“was you ever at a circus?” said tom',\n",
       " '\\n\\n“yes, and my pa’s going to take me again some time, if i’m good',\n",
       " '”\\n\\n“i been to the circus three or four times—lots of times',\n",
       " ' church ain’t\\nshucks to a circus',\n",
       " ' there’s things going on at a circus all the time',\n",
       " '\\ni’m going to be a clown in a circus when i grow up',\n",
       " '”\\n\\n“oh, are you! that will be nice',\n",
       " ' they’re so lovely, all spotted up',\n",
       " '”\\n\\n“yes, that’s so',\n",
       " ' and they get slathers of money—most a dollar a day, ben\\nrogers says',\n",
       " ' say, becky, was you ever engaged?”\\n\\n“what’s that?”\\n\\n“why, engaged to be married',\n",
       " '”\\n\\n“no',\n",
       " '”\\n\\n“would you like to?”\\n\\n“i reckon so',\n",
       " ' i don’t know',\n",
       " ' what is it like?”\\n\\n“like? why it ain’t like anything',\n",
       " ' you only just tell a boy you won’t\\never have anybody but him, ever ever ever, and then you kiss and that’s\\nall',\n",
       " ' anybody can do it',\n",
       " '”\\n\\n“kiss? what do you kiss for?”\\n\\n“why, that, you know, is to—well, they always do that',\n",
       " '”\\n\\n“everybody?”\\n\\n“why, yes, everybody that’s in love with each other',\n",
       " ' do you remember\\nwhat i wrote on the slate?”\\n\\n“ye—yes',\n",
       " '”\\n\\n“what was it?”\\n\\n“i sha’n’t tell you',\n",
       " '”\\n\\n“shall i tell _you_?”\\n\\n“ye—yes—but some other time',\n",
       " '”\\n\\n“no, now',\n",
       " '”\\n\\n“no, not now—to-morrow',\n",
       " '”\\n\\n“oh, no, _now_',\n",
       " ' please, becky—i’ll whisper it, i’ll whisper it ever so\\neasy',\n",
       " '”\\n\\nbecky hesitating, tom took silence for consent, and passed his arm about\\nher waist and whispered the tale ever so softly, with his mouth close to\\nher ear',\n",
       " ' and then he added:\\n\\n“now you whisper it to me—just the same',\n",
       " '”\\n\\nshe resisted, for a while, and then said:\\n\\n“you turn your face away so you can’t see, and then i will',\n",
       " ' but you\\nmustn’t ever tell anybody—_will_ you, tom? now you won’t, _will_ you?”\\n\\n“no, indeed, indeed i won’t',\n",
       " ' now, becky',\n",
       " '”\\n\\nhe turned his face away',\n",
       " ' she bent timidly around till her breath stirred\\nhis curls and whispered, “i—love—you!”\\n\\nthen she sprang away and ran around and around the desks and benches,\\nwith tom after her, and took refuge in a corner at last, with her little\\nwhite apron to her face',\n",
       " ' tom clasped her about her neck and pleaded:\\n\\n“now, becky, it’s all done—all over but the kiss',\n",
       " ' don’t you be afraid\\nof that—it ain’t anything at all',\n",
       " ' please, becky',\n",
       " '” and he tugged at her\\napron and the hands',\n",
       " '\\n\\nby and by she gave up, and let her hands drop; her face, all glowing\\nwith the struggle, came up and submitted',\n",
       " ' tom kissed the red lips and\\nsaid:\\n\\n“now it’s all done, becky',\n",
       " ' and always after this, you know, you ain’t\\never to love anybody but me, and you ain’t ever to marry anybody but me,\\never never and forever',\n",
       " ' will you?”\\n\\n“no, i’ll never love anybody but you, tom, and i’ll never marry anybody\\nbut you—and you ain’t to ever marry anybody but me, either',\n",
       " '”\\n\\n“certainly',\n",
       " ' of course',\n",
       " ' that’s _part_ of it',\n",
       " ' and always coming to school\\nor when we’re going home, you’re to walk with me, when there ain’t\\nanybody looking—and you choose me and i choose you at parties, because\\nthat’s the way you do when you’re engaged',\n",
       " '”\\n\\n“it’s so nice',\n",
       " ' i never heard of it before',\n",
       " '”\\n\\n“oh, it’s ever so gay! why, me and amy lawrence—”\\n\\nthe big eyes told tom his blunder and he stopped, confused',\n",
       " '\\n\\n“oh, tom! then i ain’t the first you’ve ever been engaged to!”\\n\\nthe child began to cry',\n",
       " ' tom said:\\n\\n“oh, don’t cry, becky, i don’t care for her any more',\n",
       " '”\\n\\n“yes, you do, tom—you know you do',\n",
       " '”\\n\\ntom tried to put his arm about her neck, but she pushed him away and\\nturned her face to the wall, and went on crying',\n",
       " ' tom tried again, with\\nsoothing words in his mouth, and was repulsed again',\n",
       " ' then his pride was\\nup, and he strode away and went outside',\n",
       " ' he stood about, restless and\\nuneasy, for a while, glancing at the door, every now and then, hoping\\nshe would repent and come to find him',\n",
       " ' but she did not',\n",
       " ' then he began\\nto feel badly and fear that he was in the wrong',\n",
       " ' it was a hard struggle\\nwith him to make new advances, now, but he nerved himself to it and\\nentered',\n",
       " ' she was still standing back there in the corner, sobbing, with\\nher face to the wall',\n",
       " ' tom’s heart smote him',\n",
       " ' he went to her and stood a\\nmoment, not knowing exactly how to proceed',\n",
       " ' then he said hesitatingly:\\n\\n“becky, i—i don’t care for anybody but you',\n",
       " '”\\n\\nno reply—but sobs',\n",
       " '\\n\\n“becky”—pleadingly',\n",
       " ' “becky, won’t you say something?”\\n\\nmore sobs',\n",
       " '\\n\\ntom got out his chiefest jewel, a brass knob from the top of an andiron,\\nand passed it around her so that she could see it, and said:\\n\\n“please, becky, won’t you take it?”\\n\\nshe struck it to the floor',\n",
       " ' then tom marched out of the house and over\\nthe hills and far away, to return to school no more that day',\n",
       " ' presently\\nbecky began to suspect',\n",
       " ' she ran to the door; he was not in sight; she\\nflew around to the play-yard; he was not there',\n",
       " ' then she called:\\n\\n“tom! come back, tom!”\\n\\nshe listened intently, but there was no answer',\n",
       " ' she had no companions\\nbut silence and loneliness',\n",
       " ' so she sat down to cry again and upbraid\\nherself; and by this time the scholars began to gather again, and she\\nhad to hide her griefs and still her broken heart and take up the cross\\nof a long, dreary, aching afternoon, with none among the strangers about\\nher to exchange sorrows with',\n",
       " '\\n\\n\\n\\n\\ntom dodged hither and thither through lanes until he was well out of the\\ntrack of returning scholars, and then fell into a moody jog',\n",
       " ' he crossed\\na small “branch” two or three times, because of a prevailing juvenile\\nsuperstition that to cross water baffled pursuit',\n",
       " ' half an hour later\\nhe was disappearing behind the douglas mansion on the summit of cardiff\\nhill, and the school-house was hardly distinguishable away off in the\\nvalley behind him',\n",
       " ' he entered a dense wood, picked his pathless way to\\nthe centre of it, and sat down on a mossy spot under a spreading oak',\n",
       " '\\nthere was not even a zephyr stirring; the dead noonday heat had even\\nstilled the songs of the birds; nature lay in a trance that was broken\\nby no sound but the occasional far-off hammering of a wood-pecker, and\\nthis seemed to render the pervading silence and sense of loneliness the\\nmore profound',\n",
       " ' the boy’s soul was steeped in melancholy; his feelings\\nwere in happy accord with his surroundings',\n",
       " ' he sat long with his elbows\\non his knees and his chin in his hands, meditating',\n",
       " ' it seemed to him\\nthat life was but a trouble, at best, and he more than half envied jimmy\\nhodges, so lately released; it must be very peaceful, he thought, to lie\\nand slumber and dream forever and ever, with the wind whispering through\\nthe trees and caressing the grass and the flowers over the grave, and\\nnothing to bother and grieve about, ever any more',\n",
       " ' if he only had a\\nclean sunday-school record he could be willing to go, and be done with\\nit all',\n",
       " ' now as to this girl',\n",
       " ' what had he done? nothing',\n",
       " ' he had meant\\nthe best in the world, and been treated like a dog—like a very dog',\n",
       " ' she\\nwould be sorry some day—maybe when it was too late',\n",
       " ' ah, if he could only\\ndie _temporarily_!\\n\\nbut the elastic heart of youth cannot be compressed into one constrained\\nshape long at a time',\n",
       " ' tom presently began to drift insensibly back into\\nthe concerns of this life again',\n",
       " ' what if he turned his back, now, and\\ndisappeared mysteriously? what if he went away—ever so far away, into\\nunknown countries beyond the seas—and never came back any more! how\\nwould she feel then! the idea of being a clown recurred to him now, only\\nto fill him with disgust',\n",
       " ' for frivolity and jokes and spotted tights\\nwere an offense, when they intruded themselves upon a spirit that was\\nexalted into the vague august realm of the romantic',\n",
       " ' no, he would be\\na soldier, and return after long years, all war-worn and illustrious',\n",
       " '\\nno—better still, he would join the indians, and hunt buffaloes and go on\\nthe warpath in the mountain ranges and the trackless great plains of the\\nfar west, and away in the future come back a great chief, bristling with\\nfeathers, hideous with paint, and prance into sunday-school, some drowsy\\nsummer morning, with a blood-curdling war-whoop, and sear the eyeballs\\nof all his companions with unappeasable envy',\n",
       " ' but no, there was\\nsomething gaudier even than this',\n",
       " ' he would be a pirate! that was it!\\n_now_ his future lay plain before him, and glowing with unimaginable\\nsplendor',\n",
       " ' how his name would fill the world, and make people shudder!\\nhow gloriously he would go plowing the dancing seas, in his long, low,\\nblack-hulled racer, the spirit of the storm, with his grisly flag flying\\nat the fore! and at the zenith of his fame, how he would suddenly appear\\nat the old village and stalk into church, brown and weather-beaten, in\\nhis black velvet doublet and trunks, his great jack-boots, his crimson\\nsash, his belt bristling with horse-pistols, his crime-rusted cutlass\\nat his side, his slouch hat with waving plumes, his black flag unfurled,\\nwith the skull and crossbones on it, and hear with swelling ecstasy\\nthe whisperings, “it’s tom sawyer the pirate!—the black avenger of the\\nspanish main!”\\n\\nyes, it was settled; his career was determined',\n",
       " ' he would run away from\\nhome and enter upon it',\n",
       " ' he would start the very next morning',\n",
       " ' therefore\\nhe must now begin to get ready',\n",
       " ' he would collect his resources together',\n",
       " '\\nhe went to a rotten log near at hand and began to dig under one end of\\nit with his barlow knife',\n",
       " ' he soon struck wood that sounded hollow',\n",
       " ' he\\nput his hand there and uttered this incantation impressively:\\n\\n“what hasn’t come here, come! what’s here, stay here!”\\n\\nthen he scraped away the dirt, and exposed a pine shingle',\n",
       " ' he took it\\nup and disclosed a shapely little treasure-house whose bottom and sides\\nwere of shingles',\n",
       " ' in it lay a marble',\n",
       " ' tom’s astonishment was boundless!\\nhe scratched his head with a perplexed air, and said:\\n\\n“well, that beats anything!”\\n\\nthen he tossed the marble away pettishly, and stood cogitating',\n",
       " ' the\\ntruth was, that a superstition of his had failed, here, which he and\\nall his comrades had always looked upon as infallible',\n",
       " ' if you buried\\na marble with certain necessary incantations, and left it alone a\\nfortnight, and then opened the place with the incantation he had just\\nused, you would find that all the marbles you had ever lost had gathered\\nthemselves together there, meantime, no matter how widely they had been\\nseparated',\n",
       " ' but now, this thing had actually and unquestionably failed',\n",
       " '\\ntom’s whole structure of faith was shaken to its foundations',\n",
       " ' he had\\nmany a time heard of this thing succeeding but never of its failing\\nbefore',\n",
       " ' it did not occur to him that he had tried it several times\\nbefore, himself, but could never find the hiding-places afterward',\n",
       " ' he\\npuzzled over the matter some time, and finally decided that some witch\\nhad interfered and broken the charm',\n",
       " ' he thought he would satisfy himself\\non that point; so he searched around till he found a small sandy spot\\nwith a little funnel-shaped depression in it',\n",
       " ' he laid himself down and\\nput his mouth close to this depression and called—\\n\\n“doodle-bug, doodle-bug, tell me what i want to know! doodle-bug,\\ndoodle-bug, tell me what i want to know!”\\n\\nthe sand began to work, and presently a small black bug appeared for a\\nsecond and then darted under again in a fright',\n",
       " '\\n\\n“he dasn’t tell! so it _was_ a witch that done it',\n",
       " ' i just knowed it',\n",
       " '”\\n\\nhe well knew the futility of trying to contend against witches, so he\\ngave up discouraged',\n",
       " ' but it occurred to him that he might as well have\\nthe marble he had just thrown away, and therefore he went and made a\\npatient search for it',\n",
       " ' but he could not find it',\n",
       " ' now he went back to his\\ntreasure-house and carefully placed himself just as he had been standing\\nwhen he tossed the marble away; then he took another marble from his\\npocket and tossed it in the same way, saying:\\n\\n“brother, go find your brother!”\\n\\nhe watched where it stopped, and went there and looked',\n",
       " ' but it must\\nhave fallen short or gone too far; so he tried twice more',\n",
       " ' the last\\nrepetition was successful',\n",
       " ' the two marbles lay within a foot of each\\nother',\n",
       " '\\n\\njust here the blast of a toy tin trumpet came faintly down the green\\naisles of the forest',\n",
       " ' tom flung off his jacket and trousers, turned\\na suspender into a belt, raked away some brush behind the rotten log,\\ndisclosing a rude bow and arrow, a lath sword and a tin trumpet, and\\nin a moment had seized these things and bounded away, barelegged,\\nwith fluttering shirt',\n",
       " ' he presently halted under a great elm, blew an\\nanswering blast, and then began to tiptoe and look warily out, this way\\nand that',\n",
       " ' he said cautiously—to an imaginary company:\\n\\n“hold, my merry men! keep hid till i blow',\n",
       " '”\\n\\nnow appeared joe harper, as airily clad and elaborately armed as tom',\n",
       " '\\ntom called:\\n\\n“hold! who comes here into sherwood forest without my pass?”\\n\\n“guy of guisborne wants no man’s pass',\n",
       " ' who art thou that—that—”\\n\\n“dares to hold such language,” said tom, prompting—for they talked “by\\nthe book,” from memory',\n",
       " '\\n\\n“who art thou that dares to hold such language?”\\n\\n“i, indeed! i am robin hood, as thy caitiff carcase soon shall know',\n",
       " '”\\n\\n“then art thou indeed that famous outlaw? right gladly will i dispute\\nwith thee the passes of the merry wood',\n",
       " ' have at thee!”\\n\\nthey took their lath swords, dumped their other traps on the ground,\\nstruck a fencing attitude, foot to foot, and began a grave, careful\\ncombat, “two up and two down',\n",
       " '” presently tom said:\\n\\n“now, if you’ve got the hang, go it lively!”\\n\\nso they “went it lively,” panting and perspiring with the work',\n",
       " ' by and\\nby tom shouted:\\n\\n“fall! fall! why don’t you fall?”\\n\\n“i sha’n’t! why don’t you fall yourself? you’re getting the worst of\\nit',\n",
       " '”\\n\\n“why, that ain’t anything',\n",
       " ' i can’t fall; that ain’t the way it is in the\\nbook',\n",
       " ' the book says, ‘then with one back-handed stroke he slew poor guy\\nof guisborne',\n",
       " '’ you’re to turn around and let me hit you in the back',\n",
       " '”\\n\\nthere was no getting around the authorities, so joe turned, received the\\nwhack and fell',\n",
       " '\\n\\n“now,” said joe, getting up, “you got to let me kill _you_',\n",
       " ' that’s\\nfair',\n",
       " '”\\n\\n“why, i can’t do that, it ain’t in the book',\n",
       " '”\\n\\n“well, it’s blamed mean—that’s all',\n",
       " '”\\n\\n“well, say, joe, you can be friar tuck or much the miller’s son, and lam\\nme with a quarter-staff; or i’ll be the sheriff of nottingham and you be\\nrobin hood a little while and kill me',\n",
       " '”\\n\\nthis was satisfactory, and so these adventures were carried out',\n",
       " ' then\\ntom became robin hood again, and was allowed by the treacherous nun to\\nbleed his strength away through his neglected wound',\n",
       " ' and at last joe,\\nrepresenting a whole tribe of weeping outlaws, dragged him sadly forth,\\ngave his bow into his feeble hands, and tom said, “where this arrow\\nfalls, there bury poor robin hood under the greenwood tree',\n",
       " '” then he\\nshot the arrow and fell back and would have died, but he lit on a nettle\\nand sprang up too gaily for a corpse',\n",
       " '\\n\\nthe boys dressed themselves, hid their accoutrements, and went off\\ngrieving that there were no outlaws any more, and wondering what modern\\ncivilization could claim to have done to compensate for their loss',\n",
       " '\\nthey said they would rather be outlaws a year in sherwood forest than\\npresident of the united states forever',\n",
       " '\\n\\n\\nat half-past nine, that night, tom and sid were sent to bed, as usual',\n",
       " '\\nthey said their prayers, and sid was soon asleep',\n",
       " ' tom lay awake and\\nwaited, in restless impatience',\n",
       " ' when it seemed to him that it must be\\nnearly daylight, he heard the clock strike ten! this was despair',\n",
       " ...]"
      ]
     },
     "execution_count": 12,
     "metadata": {},
     "output_type": "execute_result"
    }
   ],
   "source": [
    "data_list = text.split(\".\")\n",
    "data_list"
   ]
  },
  {
   "cell_type": "code",
   "execution_count": null,
   "metadata": {
    "colab": {
     "base_uri": "https://localhost:8080/",
     "height": 188,
     "referenced_widgets": [
      "2d93c487ecf0489dbb0ef2df11afcf6c",
      "b9bff3120a9f4bd48e38f91fffd6a12c",
      "4c1c3f0df32341a1bc27483e6f7e8231",
      "67d755ffe56e417ba40d8ed3fba38d10",
      "e2f29b435b14436f99ea478f8d4ff93c",
      "2e65d5f66fb4428484aaccdc245be969",
      "aba3919f3032482891a0cf74784f66cb",
      "d962fc966a8c43fbacb695f244241f2d",
      "4015ed991cb146a596241c2ccdc0068b",
      "ecab3f9faac84af5baff891e8ab16ed0",
      "0bbe784eead04f498d373ef87a8bc6c5"
     ]
    },
    "executionInfo": {
     "elapsed": 182,
     "status": "ok",
     "timestamp": 1742291224033,
     "user": {
      "displayName": "Phalguna",
      "userId": "04043413094749597201"
     },
     "user_tz": -330
    },
    "id": "A8woHXLhWHe3",
    "outputId": "5898c5c5-8438-421e-a582-2431d6428bb8"
   },
   "outputs": [
    {
     "name": "stdout",
     "output_type": "stream",
     "text": [
      "start normalization\n"
     ]
    },
    {
     "data": {
      "application/vnd.jupyter.widget-view+json": {
       "model_id": "2d93c487ecf0489dbb0ef2df11afcf6c",
       "version_major": 2,
       "version_minor": 0
      },
      "text/plain": [
       "  0%|          | 0/3899 [00:00<?, ?it/s]"
      ]
     },
     "metadata": {},
     "output_type": "display_data"
    },
    {
     "name": "stdout",
     "output_type": "stream",
     "text": [
      "Starting cleaning Process\n",
      "normalization done\n"
     ]
    },
    {
     "data": {
      "text/plain": [
       "[' this ebook is for the use of anyone anywhere in the united states and most other parts of the world at no cost and with almost no restrictions whatsoever',\n",
       " ' you may copy it give it away or re use it under the terms of the project gutenberg license included with this ebook or online at ',\n",
       " ' if you are not located in the united states you will have to check the laws of the country where you are located before using this ebook',\n",
       " ' most of the adventures recorded in this book really occurred one or two were experiences of my own the rest those of boys who were schoolmates of mine',\n",
       " ' huck finn is drawn from life tom sawyer also but not from an individual he is a combination of the characteristics of three boys whom  knew and therefore belongs to the composite order of architecture']"
      ]
     },
     "execution_count": 13,
     "metadata": {},
     "output_type": "execute_result"
    }
   ],
   "source": [
    "pro_sentences = []\n",
    "\n",
    "def normalization_pipeline(sentences):\n",
    "  print(\"start normalization\")\n",
    "  sentences = tokenize_twitter(sentences)\n",
    "  sentences = littleCleaning(sentences)\n",
    "  print(\"normalization done\")\n",
    "  return sentences\n",
    "\n",
    "pro_sentences = normalization_pipeline(data_list)\n",
    "pro_sentences[:5]\n"
   ]
  },
  {
   "cell_type": "code",
   "execution_count": null,
   "metadata": {
    "colab": {
     "base_uri": "https://localhost:8080/"
    },
    "executionInfo": {
     "elapsed": 15,
     "status": "ok",
     "timestamp": 1742291224858,
     "user": {
      "displayName": "Phalguna",
      "userId": "04043413094749597201"
     },
     "user_tz": -330
    },
    "id": "m3Jbh1MyW4D0",
    "outputId": "5c89ae71-d9be-4857-dcf5-dba09ce2712a"
   },
   "outputs": [
    {
     "data": {
      "text/plain": [
       "3521"
      ]
     },
     "execution_count": 14,
     "metadata": {},
     "output_type": "execute_result"
    }
   ],
   "source": [
    "len(pro_sentences)"
   ]
  },
  {
   "cell_type": "code",
   "execution_count": null,
   "metadata": {
    "colab": {
     "base_uri": "https://localhost:8080/",
     "height": 35
    },
    "executionInfo": {
     "elapsed": 3,
     "status": "ok",
     "timestamp": 1742291225285,
     "user": {
      "displayName": "Phalguna",
      "userId": "04043413094749597201"
     },
     "user_tz": -330
    },
    "id": "ODEzfblaXosD",
    "outputId": "721795a1-256c-4d92-8ebd-a6d119d6626f"
   },
   "outputs": [
    {
     "data": {
      "application/vnd.google.colaboratory.intrinsic+json": {
       "type": "string"
      },
      "text/plain": [
       "' this ebook is for the use of anyone anywhere in the united states and most other parts of the world at no cost and with almost no restrictions whatsoever you may copy it give it away or re use it und'"
      ]
     },
     "execution_count": 15,
     "metadata": {},
     "output_type": "execute_result"
    }
   ],
   "source": [
    "dataText = \"\".join(pro_sentences[: 700])\n",
    "dataText[:200]"
   ]
  },
  {
   "cell_type": "code",
   "execution_count": null,
   "metadata": {
    "id": "6aZwfUX2aKYO"
   },
   "outputs": [],
   "source": [
    "def clean_doc(doc):\n",
    "  doc=doc.replace('--',' ')\n",
    "  tokens = doc.split()\n",
    "  table=str.maketrans('', '',string.punctuation)\n",
    "  tokens=[w.translate(table) for w in tokens]\n",
    "  tokens=[word for word in tokens if word.isalpha()]\n",
    "  tokens=[word.lower() for word in tokens]\n",
    "  return tokens\n"
   ]
  },
  {
   "cell_type": "code",
   "execution_count": null,
   "metadata": {
    "colab": {
     "base_uri": "https://localhost:8080/"
    },
    "executionInfo": {
     "elapsed": 21,
     "status": "ok",
     "timestamp": 1742291226630,
     "user": {
      "displayName": "Phalguna",
      "userId": "04043413094749597201"
     },
     "user_tz": -330
    },
    "id": "JjQEaVL1a8Vt",
    "outputId": "5c5246b0-baee-49cf-c5de-3dae025374d0"
   },
   "outputs": [
    {
     "name": "stdout",
     "output_type": "stream",
     "text": [
      "['this', 'ebook', 'is', 'for', 'the', 'use', 'of', 'anyone', 'anywhere', 'in', 'the', 'united', 'states', 'and', 'most', 'other', 'parts', 'of', 'the', 'world', 'at', 'no', 'cost', 'and', 'with', 'almost', 'no', 'restrictions', 'whatsoever', 'you', 'may', 'copy', 'it', 'give', 'it', 'away', 'or', 're', 'use', 'it', 'under', 'the', 'terms', 'of', 'the', 'project', 'gutenberg', 'license', 'included', 'with', 'this', 'ebook', 'or', 'online', 'at', 'if', 'you', 'are', 'not', 'located', 'in', 'the', 'united', 'states', 'you', 'will', 'have', 'to', 'check', 'the', 'laws', 'of', 'the', 'country', 'where', 'you', 'are', 'located', 'before', 'using', 'this', 'ebook', 'most', 'of', 'the', 'adventures', 'recorded', 'in', 'this', 'book', 'really', 'occurred', 'one', 'or', 'two', 'were', 'experiences', 'of', 'my', 'own', 'the', 'rest', 'those', 'of', 'boys', 'who', 'were', 'schoolmates', 'of', 'mine', 'huck', 'finn', 'is', 'drawn', 'from', 'life', 'tom', 'sawyer', 'also', 'but', 'not', 'from', 'an', 'individual', 'he', 'is', 'a', 'combination', 'of', 'the', 'characteristics', 'of', 'three', 'boys', 'whom', 'knew', 'and', 'therefore', 'belongs', 'to', 'the', 'composite', 'order', 'of', 'architecture', 'the', 'odd', 'superstitions', 'touched', 'upon', 'were', 'all', 'prevalent', 'among', 'children', 'and', 'slaves', 'in', 'the', 'west', 'at', 'the', 'period', 'of', 'this', 'story', 'that', 'is', 'to', 'say', 'thirty', 'or', 'forty', 'years', 'ago', 'although', 'my', 'book', 'is', 'intended', 'mainly', 'for', 'the', 'entertainment', 'of', 'boys', 'and', 'girls', 'hope', 'it', 'will', 'not', 'be', 'shunned', 'by', 'men', 'and', 'women', 'on', 'that']\n",
      "total tokens:15747\n",
      "unique tokens:3078\n"
     ]
    }
   ],
   "source": [
    "tokens = clean_doc(dataText)\n",
    "print(tokens[:200])\n",
    "print('total tokens:%d' %len(tokens))\n",
    "print('unique tokens:%d' %len(set(tokens)))"
   ]
  },
  {
   "cell_type": "code",
   "execution_count": null,
   "metadata": {
    "colab": {
     "base_uri": "https://localhost:8080/"
    },
    "executionInfo": {
     "elapsed": 17,
     "status": "ok",
     "timestamp": 1742292542176,
     "user": {
      "displayName": "Phalguna",
      "userId": "04043413094749597201"
     },
     "user_tz": -330
    },
    "id": "OV8ZOdCebMVW",
    "outputId": "76183bcc-ffe5-4d9c-b343-01b86406b4c0"
   },
   "outputs": [
    {
     "name": "stdout",
     "output_type": "stream",
     "text": [
      "total sequences:15741\n"
     ]
    }
   ],
   "source": [
    "length = 5+1\n",
    "sequences = list()\n",
    "for i in range(length,len(tokens)):\n",
    "  seq=tokens[i-length:i]\n",
    "  line=' '.join(seq)\n",
    "  sequences.append(line)\n",
    "print('total sequences:%d' %len(sequences))\n"
   ]
  },
  {
   "cell_type": "code",
   "execution_count": null,
   "metadata": {
    "id": "o0cbU203boVT"
   },
   "outputs": [],
   "source": [
    "def save_doc(lines,filename):\n",
    "  data='\\n'.join(lines)\n",
    "  file=open(filename,'w')\n",
    "  file.write(data)\n",
    "  file.close()\n",
    "\n",
    "out_filename='/content/drive/MyDrive/Colab_Notebooks/pred_next_word/republic_sequences.txt'\n",
    "save_doc(sequences,out_filename)"
   ]
  },
  {
   "cell_type": "code",
   "execution_count": null,
   "metadata": {
    "id": "wBP8mk5lcN8P"
   },
   "outputs": [],
   "source": [
    "in_filename='/content/drive/MyDrive/Colab_Notebooks/pred_next_word/republic_sequences.txt'\n",
    "doc=load_doc(in_filename)\n",
    "lines=doc.split('\\n')\n",
    "\n",
    "tokenizer=Tokenizer()\n",
    "tokenizer.fit_on_texts(lines)\n",
    "sequences=tokenizer.texts_to_sequences(lines)\n",
    "vocab_size=len(tokenizer.word_index)+1\n",
    "sequences=array(sequences)\n",
    "X,y=sequences[:,:-1],sequences[:,-1]\n",
    "y=to_categorical(y,num_classes=vocab_size)\n",
    "seq_length=X.shape[1]"
   ]
  },
  {
   "cell_type": "code",
   "execution_count": null,
   "metadata": {
    "colab": {
     "base_uri": "https://localhost:8080/",
     "height": 1000
    },
    "executionInfo": {
     "elapsed": 125897,
     "status": "ok",
     "timestamp": 1742293439795,
     "user": {
      "displayName": "Phalguna",
      "userId": "04043413094749597201"
     },
     "user_tz": -330
    },
    "id": "bv-SBDbfdEZ5",
    "outputId": "9815f811-f37a-4e10-ef87-2a2a9aa312d9"
   },
   "outputs": [
    {
     "name": "stderr",
     "output_type": "stream",
     "text": [
      "/usr/local/lib/python3.11/dist-packages/keras/src/layers/core/embedding.py:90: UserWarning: Argument `input_length` is deprecated. Just remove it.\n",
      "  warnings.warn(\n"
     ]
    },
    {
     "data": {
      "text/html": [
       "<pre style=\"white-space:pre;overflow-x:auto;line-height:normal;font-family:Menlo,'DejaVu Sans Mono',consolas,'Courier New',monospace\"><span style=\"font-weight: bold\">Model: \"sequential_3\"</span>\n",
       "</pre>\n"
      ],
      "text/plain": [
       "\u001b[1mModel: \"sequential_3\"\u001b[0m\n"
      ]
     },
     "metadata": {},
     "output_type": "display_data"
    },
    {
     "data": {
      "text/html": [
       "<pre style=\"white-space:pre;overflow-x:auto;line-height:normal;font-family:Menlo,'DejaVu Sans Mono',consolas,'Courier New',monospace\">┏━━━━━━━━━━━━━━━━━━━━━━━━━━━━━━━━━━━━━━┳━━━━━━━━━━━━━━━━━━━━━━━━━━━━━┳━━━━━━━━━━━━━━━━━┓\n",
       "┃<span style=\"font-weight: bold\"> Layer (type)                         </span>┃<span style=\"font-weight: bold\"> Output Shape                </span>┃<span style=\"font-weight: bold\">         Param # </span>┃\n",
       "┡━━━━━━━━━━━━━━━━━━━━━━━━━━━━━━━━━━━━━━╇━━━━━━━━━━━━━━━━━━━━━━━━━━━━━╇━━━━━━━━━━━━━━━━━┩\n",
       "│ embedding_3 (<span style=\"color: #0087ff; text-decoration-color: #0087ff\">Embedding</span>)              │ ?                           │     <span style=\"color: #00af00; text-decoration-color: #00af00\">0</span> (unbuilt) │\n",
       "├──────────────────────────────────────┼─────────────────────────────┼─────────────────┤\n",
       "│ lstm_6 (<span style=\"color: #0087ff; text-decoration-color: #0087ff\">LSTM</span>)                        │ ?                           │     <span style=\"color: #00af00; text-decoration-color: #00af00\">0</span> (unbuilt) │\n",
       "├──────────────────────────────────────┼─────────────────────────────┼─────────────────┤\n",
       "│ lstm_7 (<span style=\"color: #0087ff; text-decoration-color: #0087ff\">LSTM</span>)                        │ ?                           │     <span style=\"color: #00af00; text-decoration-color: #00af00\">0</span> (unbuilt) │\n",
       "├──────────────────────────────────────┼─────────────────────────────┼─────────────────┤\n",
       "│ dense_6 (<span style=\"color: #0087ff; text-decoration-color: #0087ff\">Dense</span>)                      │ ?                           │     <span style=\"color: #00af00; text-decoration-color: #00af00\">0</span> (unbuilt) │\n",
       "├──────────────────────────────────────┼─────────────────────────────┼─────────────────┤\n",
       "│ dense_7 (<span style=\"color: #0087ff; text-decoration-color: #0087ff\">Dense</span>)                      │ ?                           │     <span style=\"color: #00af00; text-decoration-color: #00af00\">0</span> (unbuilt) │\n",
       "└──────────────────────────────────────┴─────────────────────────────┴─────────────────┘\n",
       "</pre>\n"
      ],
      "text/plain": [
       "┏━━━━━━━━━━━━━━━━━━━━━━━━━━━━━━━━━━━━━━┳━━━━━━━━━━━━━━━━━━━━━━━━━━━━━┳━━━━━━━━━━━━━━━━━┓\n",
       "┃\u001b[1m \u001b[0m\u001b[1mLayer (type)                        \u001b[0m\u001b[1m \u001b[0m┃\u001b[1m \u001b[0m\u001b[1mOutput Shape               \u001b[0m\u001b[1m \u001b[0m┃\u001b[1m \u001b[0m\u001b[1m        Param #\u001b[0m\u001b[1m \u001b[0m┃\n",
       "┡━━━━━━━━━━━━━━━━━━━━━━━━━━━━━━━━━━━━━━╇━━━━━━━━━━━━━━━━━━━━━━━━━━━━━╇━━━━━━━━━━━━━━━━━┩\n",
       "│ embedding_3 (\u001b[38;5;33mEmbedding\u001b[0m)              │ ?                           │     \u001b[38;5;34m0\u001b[0m (unbuilt) │\n",
       "├──────────────────────────────────────┼─────────────────────────────┼─────────────────┤\n",
       "│ lstm_6 (\u001b[38;5;33mLSTM\u001b[0m)                        │ ?                           │     \u001b[38;5;34m0\u001b[0m (unbuilt) │\n",
       "├──────────────────────────────────────┼─────────────────────────────┼─────────────────┤\n",
       "│ lstm_7 (\u001b[38;5;33mLSTM\u001b[0m)                        │ ?                           │     \u001b[38;5;34m0\u001b[0m (unbuilt) │\n",
       "├──────────────────────────────────────┼─────────────────────────────┼─────────────────┤\n",
       "│ dense_6 (\u001b[38;5;33mDense\u001b[0m)                      │ ?                           │     \u001b[38;5;34m0\u001b[0m (unbuilt) │\n",
       "├──────────────────────────────────────┼─────────────────────────────┼─────────────────┤\n",
       "│ dense_7 (\u001b[38;5;33mDense\u001b[0m)                      │ ?                           │     \u001b[38;5;34m0\u001b[0m (unbuilt) │\n",
       "└──────────────────────────────────────┴─────────────────────────────┴─────────────────┘\n"
      ]
     },
     "metadata": {},
     "output_type": "display_data"
    },
    {
     "data": {
      "text/html": [
       "<pre style=\"white-space:pre;overflow-x:auto;line-height:normal;font-family:Menlo,'DejaVu Sans Mono',consolas,'Courier New',monospace\"><span style=\"font-weight: bold\"> Total params: </span><span style=\"color: #00af00; text-decoration-color: #00af00\">0</span> (0.00 B)\n",
       "</pre>\n"
      ],
      "text/plain": [
       "\u001b[1m Total params: \u001b[0m\u001b[38;5;34m0\u001b[0m (0.00 B)\n"
      ]
     },
     "metadata": {},
     "output_type": "display_data"
    },
    {
     "data": {
      "text/html": [
       "<pre style=\"white-space:pre;overflow-x:auto;line-height:normal;font-family:Menlo,'DejaVu Sans Mono',consolas,'Courier New',monospace\"><span style=\"font-weight: bold\"> Trainable params: </span><span style=\"color: #00af00; text-decoration-color: #00af00\">0</span> (0.00 B)\n",
       "</pre>\n"
      ],
      "text/plain": [
       "\u001b[1m Trainable params: \u001b[0m\u001b[38;5;34m0\u001b[0m (0.00 B)\n"
      ]
     },
     "metadata": {},
     "output_type": "display_data"
    },
    {
     "data": {
      "text/html": [
       "<pre style=\"white-space:pre;overflow-x:auto;line-height:normal;font-family:Menlo,'DejaVu Sans Mono',consolas,'Courier New',monospace\"><span style=\"font-weight: bold\"> Non-trainable params: </span><span style=\"color: #00af00; text-decoration-color: #00af00\">0</span> (0.00 B)\n",
       "</pre>\n"
      ],
      "text/plain": [
       "\u001b[1m Non-trainable params: \u001b[0m\u001b[38;5;34m0\u001b[0m (0.00 B)\n"
      ]
     },
     "metadata": {},
     "output_type": "display_data"
    },
    {
     "name": "stdout",
     "output_type": "stream",
     "text": [
      "None\n",
      "Epoch 1/100\n",
      "\u001b[1m123/123\u001b[0m \u001b[32m━━━━━━━━━━━━━━━━━━━━\u001b[0m\u001b[37m\u001b[0m \u001b[1m4s\u001b[0m 8ms/step - accuracy: 0.0229 - loss: 7.4868\n",
      "Epoch 2/100\n",
      "\u001b[1m123/123\u001b[0m \u001b[32m━━━━━━━━━━━━━━━━━━━━\u001b[0m\u001b[37m\u001b[0m \u001b[1m1s\u001b[0m 8ms/step - accuracy: 0.0508 - loss: 6.2981\n",
      "Epoch 3/100\n",
      "\u001b[1m123/123\u001b[0m \u001b[32m━━━━━━━━━━━━━━━━━━━━\u001b[0m\u001b[37m\u001b[0m \u001b[1m1s\u001b[0m 8ms/step - accuracy: 0.0500 - loss: 6.2805\n",
      "Epoch 4/100\n",
      "\u001b[1m123/123\u001b[0m \u001b[32m━━━━━━━━━━━━━━━━━━━━\u001b[0m\u001b[37m\u001b[0m \u001b[1m1s\u001b[0m 11ms/step - accuracy: 0.0519 - loss: 6.2129\n",
      "Epoch 5/100\n",
      "\u001b[1m123/123\u001b[0m \u001b[32m━━━━━━━━━━━━━━━━━━━━\u001b[0m\u001b[37m\u001b[0m \u001b[1m1s\u001b[0m 11ms/step - accuracy: 0.0517 - loss: 6.0944\n",
      "Epoch 6/100\n",
      "\u001b[1m123/123\u001b[0m \u001b[32m━━━━━━━━━━━━━━━━━━━━\u001b[0m\u001b[37m\u001b[0m \u001b[1m1s\u001b[0m 8ms/step - accuracy: 0.0527 - loss: 6.0207\n",
      "Epoch 7/100\n",
      "\u001b[1m123/123\u001b[0m \u001b[32m━━━━━━━━━━━━━━━━━━━━\u001b[0m\u001b[37m\u001b[0m \u001b[1m1s\u001b[0m 8ms/step - accuracy: 0.0635 - loss: 5.9260\n",
      "Epoch 8/100\n",
      "\u001b[1m123/123\u001b[0m \u001b[32m━━━━━━━━━━━━━━━━━━━━\u001b[0m\u001b[37m\u001b[0m \u001b[1m1s\u001b[0m 7ms/step - accuracy: 0.0657 - loss: 5.8273\n",
      "Epoch 9/100\n",
      "\u001b[1m123/123\u001b[0m \u001b[32m━━━━━━━━━━━━━━━━━━━━\u001b[0m\u001b[37m\u001b[0m \u001b[1m1s\u001b[0m 8ms/step - accuracy: 0.0656 - loss: 5.7139\n",
      "Epoch 10/100\n",
      "\u001b[1m123/123\u001b[0m \u001b[32m━━━━━━━━━━━━━━━━━━━━\u001b[0m\u001b[37m\u001b[0m \u001b[1m1s\u001b[0m 7ms/step - accuracy: 0.0724 - loss: 5.6147\n",
      "Epoch 11/100\n",
      "\u001b[1m123/123\u001b[0m \u001b[32m━━━━━━━━━━━━━━━━━━━━\u001b[0m\u001b[37m\u001b[0m \u001b[1m1s\u001b[0m 7ms/step - accuracy: 0.0727 - loss: 5.5459\n",
      "Epoch 12/100\n",
      "\u001b[1m123/123\u001b[0m \u001b[32m━━━━━━━━━━━━━━━━━━━━\u001b[0m\u001b[37m\u001b[0m \u001b[1m1s\u001b[0m 8ms/step - accuracy: 0.0769 - loss: 5.4382\n",
      "Epoch 13/100\n",
      "\u001b[1m123/123\u001b[0m \u001b[32m━━━━━━━━━━━━━━━━━━━━\u001b[0m\u001b[37m\u001b[0m \u001b[1m1s\u001b[0m 8ms/step - accuracy: 0.0770 - loss: 5.3555\n",
      "Epoch 14/100\n",
      "\u001b[1m123/123\u001b[0m \u001b[32m━━━━━━━━━━━━━━━━━━━━\u001b[0m\u001b[37m\u001b[0m \u001b[1m1s\u001b[0m 8ms/step - accuracy: 0.0785 - loss: 5.3283\n",
      "Epoch 15/100\n",
      "\u001b[1m123/123\u001b[0m \u001b[32m━━━━━━━━━━━━━━━━━━━━\u001b[0m\u001b[37m\u001b[0m \u001b[1m1s\u001b[0m 8ms/step - accuracy: 0.0876 - loss: 5.2206\n",
      "Epoch 16/100\n",
      "\u001b[1m123/123\u001b[0m \u001b[32m━━━━━━━━━━━━━━━━━━━━\u001b[0m\u001b[37m\u001b[0m \u001b[1m1s\u001b[0m 11ms/step - accuracy: 0.0916 - loss: 5.1273\n",
      "Epoch 17/100\n",
      "\u001b[1m123/123\u001b[0m \u001b[32m━━━━━━━━━━━━━━━━━━━━\u001b[0m\u001b[37m\u001b[0m \u001b[1m2s\u001b[0m 8ms/step - accuracy: 0.0925 - loss: 5.1016\n",
      "Epoch 18/100\n",
      "\u001b[1m123/123\u001b[0m \u001b[32m━━━━━━━━━━━━━━━━━━━━\u001b[0m\u001b[37m\u001b[0m \u001b[1m1s\u001b[0m 8ms/step - accuracy: 0.0965 - loss: 4.9994\n",
      "Epoch 19/100\n",
      "\u001b[1m123/123\u001b[0m \u001b[32m━━━━━━━━━━━━━━━━━━━━\u001b[0m\u001b[37m\u001b[0m \u001b[1m1s\u001b[0m 8ms/step - accuracy: 0.1042 - loss: 4.9153\n",
      "Epoch 20/100\n",
      "\u001b[1m123/123\u001b[0m \u001b[32m━━━━━━━━━━━━━━━━━━━━\u001b[0m\u001b[37m\u001b[0m \u001b[1m1s\u001b[0m 7ms/step - accuracy: 0.1044 - loss: 4.8556\n",
      "Epoch 21/100\n",
      "\u001b[1m123/123\u001b[0m \u001b[32m━━━━━━━━━━━━━━━━━━━━\u001b[0m\u001b[37m\u001b[0m \u001b[1m1s\u001b[0m 8ms/step - accuracy: 0.1116 - loss: 4.7753\n",
      "Epoch 22/100\n",
      "\u001b[1m123/123\u001b[0m \u001b[32m━━━━━━━━━━━━━━━━━━━━\u001b[0m\u001b[37m\u001b[0m \u001b[1m1s\u001b[0m 8ms/step - accuracy: 0.1176 - loss: 4.7040\n",
      "Epoch 23/100\n",
      "\u001b[1m123/123\u001b[0m \u001b[32m━━━━━━━━━━━━━━━━━━━━\u001b[0m\u001b[37m\u001b[0m \u001b[1m1s\u001b[0m 8ms/step - accuracy: 0.1205 - loss: 4.6550\n",
      "Epoch 24/100\n",
      "\u001b[1m123/123\u001b[0m \u001b[32m━━━━━━━━━━━━━━━━━━━━\u001b[0m\u001b[37m\u001b[0m \u001b[1m1s\u001b[0m 8ms/step - accuracy: 0.1202 - loss: 4.5635\n",
      "Epoch 25/100\n",
      "\u001b[1m123/123\u001b[0m \u001b[32m━━━━━━━━━━━━━━━━━━━━\u001b[0m\u001b[37m\u001b[0m \u001b[1m1s\u001b[0m 8ms/step - accuracy: 0.1290 - loss: 4.4875\n",
      "Epoch 26/100\n",
      "\u001b[1m123/123\u001b[0m \u001b[32m━━━━━━━━━━━━━━━━━━━━\u001b[0m\u001b[37m\u001b[0m \u001b[1m2s\u001b[0m 11ms/step - accuracy: 0.1329 - loss: 4.4115\n",
      "Epoch 27/100\n",
      "\u001b[1m123/123\u001b[0m \u001b[32m━━━━━━━━━━━━━━━━━━━━\u001b[0m\u001b[37m\u001b[0m \u001b[1m1s\u001b[0m 12ms/step - accuracy: 0.1328 - loss: 4.3663\n",
      "Epoch 28/100\n",
      "\u001b[1m123/123\u001b[0m \u001b[32m━━━━━━━━━━━━━━━━━━━━\u001b[0m\u001b[37m\u001b[0m \u001b[1m2s\u001b[0m 8ms/step - accuracy: 0.1433 - loss: 4.2697\n",
      "Epoch 29/100\n",
      "\u001b[1m123/123\u001b[0m \u001b[32m━━━━━━━━━━━━━━━━━━━━\u001b[0m\u001b[37m\u001b[0m \u001b[1m1s\u001b[0m 9ms/step - accuracy: 0.1490 - loss: 4.2056\n",
      "Epoch 30/100\n",
      "\u001b[1m123/123\u001b[0m \u001b[32m━━━━━━━━━━━━━━━━━━━━\u001b[0m\u001b[37m\u001b[0m \u001b[1m1s\u001b[0m 9ms/step - accuracy: 0.1578 - loss: 4.1042\n",
      "Epoch 31/100\n",
      "\u001b[1m123/123\u001b[0m \u001b[32m━━━━━━━━━━━━━━━━━━━━\u001b[0m\u001b[37m\u001b[0m \u001b[1m1s\u001b[0m 7ms/step - accuracy: 0.1660 - loss: 4.0360\n",
      "Epoch 32/100\n",
      "\u001b[1m123/123\u001b[0m \u001b[32m━━━━━━━━━━━━━━━━━━━━\u001b[0m\u001b[37m\u001b[0m \u001b[1m1s\u001b[0m 7ms/step - accuracy: 0.1701 - loss: 3.9691\n",
      "Epoch 33/100\n",
      "\u001b[1m123/123\u001b[0m \u001b[32m━━━━━━━━━━━━━━━━━━━━\u001b[0m\u001b[37m\u001b[0m \u001b[1m1s\u001b[0m 7ms/step - accuracy: 0.1713 - loss: 3.9103\n",
      "Epoch 34/100\n",
      "\u001b[1m123/123\u001b[0m \u001b[32m━━━━━━━━━━━━━━━━━━━━\u001b[0m\u001b[37m\u001b[0m \u001b[1m1s\u001b[0m 8ms/step - accuracy: 0.1851 - loss: 3.8365\n",
      "Epoch 35/100\n",
      "\u001b[1m123/123\u001b[0m \u001b[32m━━━━━━━━━━━━━━━━━━━━\u001b[0m\u001b[37m\u001b[0m \u001b[1m1s\u001b[0m 8ms/step - accuracy: 0.1879 - loss: 3.7656\n",
      "Epoch 36/100\n",
      "\u001b[1m123/123\u001b[0m \u001b[32m━━━━━━━━━━━━━━━━━━━━\u001b[0m\u001b[37m\u001b[0m \u001b[1m1s\u001b[0m 11ms/step - accuracy: 0.1961 - loss: 3.7014\n",
      "Epoch 37/100\n",
      "\u001b[1m123/123\u001b[0m \u001b[32m━━━━━━━━━━━━━━━━━━━━\u001b[0m\u001b[37m\u001b[0m \u001b[1m2s\u001b[0m 8ms/step - accuracy: 0.2041 - loss: 3.6522\n",
      "Epoch 38/100\n",
      "\u001b[1m123/123\u001b[0m \u001b[32m━━━━━━━━━━━━━━━━━━━━\u001b[0m\u001b[37m\u001b[0m \u001b[1m1s\u001b[0m 8ms/step - accuracy: 0.2113 - loss: 3.6206\n",
      "Epoch 39/100\n",
      "\u001b[1m123/123\u001b[0m \u001b[32m━━━━━━━━━━━━━━━━━━━━\u001b[0m\u001b[37m\u001b[0m \u001b[1m1s\u001b[0m 8ms/step - accuracy: 0.2373 - loss: 3.4838\n",
      "Epoch 40/100\n",
      "\u001b[1m123/123\u001b[0m \u001b[32m━━━━━━━━━━━━━━━━━━━━\u001b[0m\u001b[37m\u001b[0m \u001b[1m1s\u001b[0m 8ms/step - accuracy: 0.2362 - loss: 3.4451\n",
      "Epoch 41/100\n",
      "\u001b[1m123/123\u001b[0m \u001b[32m━━━━━━━━━━━━━━━━━━━━\u001b[0m\u001b[37m\u001b[0m \u001b[1m1s\u001b[0m 8ms/step - accuracy: 0.2440 - loss: 3.4200\n",
      "Epoch 42/100\n",
      "\u001b[1m123/123\u001b[0m \u001b[32m━━━━━━━━━━━━━━━━━━━━\u001b[0m\u001b[37m\u001b[0m \u001b[1m1s\u001b[0m 8ms/step - accuracy: 0.2571 - loss: 3.3349\n",
      "Epoch 43/100\n",
      "\u001b[1m123/123\u001b[0m \u001b[32m━━━━━━━━━━━━━━━━━━━━\u001b[0m\u001b[37m\u001b[0m \u001b[1m1s\u001b[0m 8ms/step - accuracy: 0.2787 - loss: 3.2436\n",
      "Epoch 44/100\n",
      "\u001b[1m123/123\u001b[0m \u001b[32m━━━━━━━━━━━━━━━━━━━━\u001b[0m\u001b[37m\u001b[0m \u001b[1m1s\u001b[0m 9ms/step - accuracy: 0.2852 - loss: 3.2225\n",
      "Epoch 45/100\n",
      "\u001b[1m123/123\u001b[0m \u001b[32m━━━━━━━━━━━━━━━━━━━━\u001b[0m\u001b[37m\u001b[0m \u001b[1m2s\u001b[0m 14ms/step - accuracy: 0.2853 - loss: 3.1795\n",
      "Epoch 46/100\n",
      "\u001b[1m123/123\u001b[0m \u001b[32m━━━━━━━━━━━━━━━━━━━━\u001b[0m\u001b[37m\u001b[0m \u001b[1m2s\u001b[0m 19ms/step - accuracy: 0.3017 - loss: 3.0813\n",
      "Epoch 47/100\n",
      "\u001b[1m123/123\u001b[0m \u001b[32m━━━━━━━━━━━━━━━━━━━━\u001b[0m\u001b[37m\u001b[0m \u001b[1m1s\u001b[0m 9ms/step - accuracy: 0.3107 - loss: 3.0641\n",
      "Epoch 48/100\n",
      "\u001b[1m123/123\u001b[0m \u001b[32m━━━━━━━━━━━━━━━━━━━━\u001b[0m\u001b[37m\u001b[0m \u001b[1m1s\u001b[0m 8ms/step - accuracy: 0.3192 - loss: 3.0095\n",
      "Epoch 49/100\n",
      "\u001b[1m123/123\u001b[0m \u001b[32m━━━━━━━━━━━━━━━━━━━━\u001b[0m\u001b[37m\u001b[0m \u001b[1m1s\u001b[0m 8ms/step - accuracy: 0.3290 - loss: 2.9678\n",
      "Epoch 50/100\n",
      "\u001b[1m123/123\u001b[0m \u001b[32m━━━━━━━━━━━━━━━━━━━━\u001b[0m\u001b[37m\u001b[0m \u001b[1m1s\u001b[0m 8ms/step - accuracy: 0.3389 - loss: 2.8973\n",
      "Epoch 51/100\n",
      "\u001b[1m123/123\u001b[0m \u001b[32m━━━━━━━━━━━━━━━━━━━━\u001b[0m\u001b[37m\u001b[0m \u001b[1m1s\u001b[0m 8ms/step - accuracy: 0.3503 - loss: 2.8369\n",
      "Epoch 52/100\n",
      "\u001b[1m123/123\u001b[0m \u001b[32m━━━━━━━━━━━━━━━━━━━━\u001b[0m\u001b[37m\u001b[0m \u001b[1m1s\u001b[0m 8ms/step - accuracy: 0.3627 - loss: 2.7918\n",
      "Epoch 53/100\n",
      "\u001b[1m123/123\u001b[0m \u001b[32m━━━━━━━━━━━━━━━━━━━━\u001b[0m\u001b[37m\u001b[0m \u001b[1m1s\u001b[0m 8ms/step - accuracy: 0.3618 - loss: 2.7655\n",
      "Epoch 54/100\n",
      "\u001b[1m123/123\u001b[0m \u001b[32m━━━━━━━━━━━━━━━━━━━━\u001b[0m\u001b[37m\u001b[0m \u001b[1m1s\u001b[0m 8ms/step - accuracy: 0.3766 - loss: 2.7261\n",
      "Epoch 55/100\n",
      "\u001b[1m123/123\u001b[0m \u001b[32m━━━━━━━━━━━━━━━━━━━━\u001b[0m\u001b[37m\u001b[0m \u001b[1m1s\u001b[0m 8ms/step - accuracy: 0.3910 - loss: 2.6521\n",
      "Epoch 56/100\n",
      "\u001b[1m123/123\u001b[0m \u001b[32m━━━━━━━━━━━━━━━━━━━━\u001b[0m\u001b[37m\u001b[0m \u001b[1m1s\u001b[0m 8ms/step - accuracy: 0.3996 - loss: 2.6151\n",
      "Epoch 57/100\n",
      "\u001b[1m123/123\u001b[0m \u001b[32m━━━━━━━━━━━━━━━━━━━━\u001b[0m\u001b[37m\u001b[0m \u001b[1m2s\u001b[0m 12ms/step - accuracy: 0.4004 - loss: 2.5980\n",
      "Epoch 58/100\n",
      "\u001b[1m123/123\u001b[0m \u001b[32m━━━━━━━━━━━━━━━━━━━━\u001b[0m\u001b[37m\u001b[0m \u001b[1m2s\u001b[0m 13ms/step - accuracy: 0.4137 - loss: 2.5202\n",
      "Epoch 59/100\n",
      "\u001b[1m123/123\u001b[0m \u001b[32m━━━━━━━━━━━━━━━━━━━━\u001b[0m\u001b[37m\u001b[0m \u001b[1m1s\u001b[0m 8ms/step - accuracy: 0.4279 - loss: 2.4634\n",
      "Epoch 60/100\n",
      "\u001b[1m123/123\u001b[0m \u001b[32m━━━━━━━━━━━━━━━━━━━━\u001b[0m\u001b[37m\u001b[0m \u001b[1m1s\u001b[0m 8ms/step - accuracy: 0.4365 - loss: 2.4469\n",
      "Epoch 61/100\n",
      "\u001b[1m123/123\u001b[0m \u001b[32m━━━━━━━━━━━━━━━━━━━━\u001b[0m\u001b[37m\u001b[0m \u001b[1m1s\u001b[0m 8ms/step - accuracy: 0.4389 - loss: 2.3986\n",
      "Epoch 62/100\n",
      "\u001b[1m123/123\u001b[0m \u001b[32m━━━━━━━━━━━━━━━━━━━━\u001b[0m\u001b[37m\u001b[0m \u001b[1m1s\u001b[0m 8ms/step - accuracy: 0.4475 - loss: 2.3643\n",
      "Epoch 63/100\n",
      "\u001b[1m123/123\u001b[0m \u001b[32m━━━━━━━━━━━━━━━━━━━━\u001b[0m\u001b[37m\u001b[0m \u001b[1m1s\u001b[0m 8ms/step - accuracy: 0.4594 - loss: 2.3242\n",
      "Epoch 64/100\n",
      "\u001b[1m123/123\u001b[0m \u001b[32m━━━━━━━━━━━━━━━━━━━━\u001b[0m\u001b[37m\u001b[0m \u001b[1m1s\u001b[0m 8ms/step - accuracy: 0.4712 - loss: 2.2809\n",
      "Epoch 65/100\n",
      "\u001b[1m123/123\u001b[0m \u001b[32m━━━━━━━━━━━━━━━━━━━━\u001b[0m\u001b[37m\u001b[0m \u001b[1m1s\u001b[0m 8ms/step - accuracy: 0.4894 - loss: 2.2209\n",
      "Epoch 66/100\n",
      "\u001b[1m123/123\u001b[0m \u001b[32m━━━━━━━━━━━━━━━━━━━━\u001b[0m\u001b[37m\u001b[0m \u001b[1m1s\u001b[0m 8ms/step - accuracy: 0.4802 - loss: 2.2206\n",
      "Epoch 67/100\n",
      "\u001b[1m123/123\u001b[0m \u001b[32m━━━━━━━━━━━━━━━━━━━━\u001b[0m\u001b[37m\u001b[0m \u001b[1m1s\u001b[0m 8ms/step - accuracy: 0.4884 - loss: 2.1722\n",
      "Epoch 68/100\n",
      "\u001b[1m123/123\u001b[0m \u001b[32m━━━━━━━━━━━━━━━━━━━━\u001b[0m\u001b[37m\u001b[0m \u001b[1m1s\u001b[0m 11ms/step - accuracy: 0.5076 - loss: 2.1327\n",
      "Epoch 69/100\n",
      "\u001b[1m123/123\u001b[0m \u001b[32m━━━━━━━━━━━━━━━━━━━━\u001b[0m\u001b[37m\u001b[0m \u001b[1m2s\u001b[0m 8ms/step - accuracy: 0.5138 - loss: 2.0799\n",
      "Epoch 70/100\n",
      "\u001b[1m123/123\u001b[0m \u001b[32m━━━━━━━━━━━━━━━━━━━━\u001b[0m\u001b[37m\u001b[0m \u001b[1m1s\u001b[0m 8ms/step - accuracy: 0.5263 - loss: 2.0550\n",
      "Epoch 71/100\n",
      "\u001b[1m123/123\u001b[0m \u001b[32m━━━━━━━━━━━━━━━━━━━━\u001b[0m\u001b[37m\u001b[0m \u001b[1m1s\u001b[0m 8ms/step - accuracy: 0.5242 - loss: 2.0187\n",
      "Epoch 72/100\n",
      "\u001b[1m123/123\u001b[0m \u001b[32m━━━━━━━━━━━━━━━━━━━━\u001b[0m\u001b[37m\u001b[0m \u001b[1m1s\u001b[0m 8ms/step - accuracy: 0.5396 - loss: 1.9805\n",
      "Epoch 73/100\n",
      "\u001b[1m123/123\u001b[0m \u001b[32m━━━━━━━━━━━━━━━━━━━━\u001b[0m\u001b[37m\u001b[0m \u001b[1m1s\u001b[0m 8ms/step - accuracy: 0.5440 - loss: 1.9386\n",
      "Epoch 74/100\n",
      "\u001b[1m123/123\u001b[0m \u001b[32m━━━━━━━━━━━━━━━━━━━━\u001b[0m\u001b[37m\u001b[0m \u001b[1m1s\u001b[0m 8ms/step - accuracy: 0.5456 - loss: 1.9332\n",
      "Epoch 75/100\n",
      "\u001b[1m123/123\u001b[0m \u001b[32m━━━━━━━━━━━━━━━━━━━━\u001b[0m\u001b[37m\u001b[0m \u001b[1m1s\u001b[0m 8ms/step - accuracy: 0.5627 - loss: 1.8824\n",
      "Epoch 76/100\n",
      "\u001b[1m123/123\u001b[0m \u001b[32m━━━━━━━━━━━━━━━━━━━━\u001b[0m\u001b[37m\u001b[0m \u001b[1m1s\u001b[0m 8ms/step - accuracy: 0.5672 - loss: 1.8469\n",
      "Epoch 77/100\n",
      "\u001b[1m123/123\u001b[0m \u001b[32m━━━━━━━━━━━━━━━━━━━━\u001b[0m\u001b[37m\u001b[0m \u001b[1m1s\u001b[0m 8ms/step - accuracy: 0.5611 - loss: 1.8521\n",
      "Epoch 78/100\n",
      "\u001b[1m123/123\u001b[0m \u001b[32m━━━━━━━━━━━━━━━━━━━━\u001b[0m\u001b[37m\u001b[0m \u001b[1m2s\u001b[0m 11ms/step - accuracy: 0.5779 - loss: 1.7988\n",
      "Epoch 79/100\n",
      "\u001b[1m123/123\u001b[0m \u001b[32m━━━━━━━━━━━━━━━━━━━━\u001b[0m\u001b[37m\u001b[0m \u001b[1m2s\u001b[0m 8ms/step - accuracy: 0.5899 - loss: 1.7534\n",
      "Epoch 80/100\n",
      "\u001b[1m123/123\u001b[0m \u001b[32m━━━━━━━━━━━━━━━━━━━━\u001b[0m\u001b[37m\u001b[0m \u001b[1m1s\u001b[0m 8ms/step - accuracy: 0.5864 - loss: 1.7620\n",
      "Epoch 81/100\n",
      "\u001b[1m123/123\u001b[0m \u001b[32m━━━━━━━━━━━━━━━━━━━━\u001b[0m\u001b[37m\u001b[0m \u001b[1m1s\u001b[0m 8ms/step - accuracy: 0.5938 - loss: 1.7218\n",
      "Epoch 82/100\n",
      "\u001b[1m123/123\u001b[0m \u001b[32m━━━━━━━━━━━━━━━━━━━━\u001b[0m\u001b[37m\u001b[0m \u001b[1m1s\u001b[0m 8ms/step - accuracy: 0.6022 - loss: 1.7115\n",
      "Epoch 83/100\n",
      "\u001b[1m123/123\u001b[0m \u001b[32m━━━━━━━━━━━━━━━━━━━━\u001b[0m\u001b[37m\u001b[0m \u001b[1m1s\u001b[0m 8ms/step - accuracy: 0.6088 - loss: 1.6828\n",
      "Epoch 84/100\n",
      "\u001b[1m123/123\u001b[0m \u001b[32m━━━━━━━━━━━━━━━━━━━━\u001b[0m\u001b[37m\u001b[0m \u001b[1m1s\u001b[0m 8ms/step - accuracy: 0.6215 - loss: 1.6298\n",
      "Epoch 85/100\n",
      "\u001b[1m123/123\u001b[0m \u001b[32m━━━━━━━━━━━━━━━━━━━━\u001b[0m\u001b[37m\u001b[0m \u001b[1m1s\u001b[0m 8ms/step - accuracy: 0.6256 - loss: 1.6160\n",
      "Epoch 86/100\n",
      "\u001b[1m123/123\u001b[0m \u001b[32m━━━━━━━━━━━━━━━━━━━━\u001b[0m\u001b[37m\u001b[0m \u001b[1m1s\u001b[0m 8ms/step - accuracy: 0.6283 - loss: 1.5828\n",
      "Epoch 87/100\n",
      "\u001b[1m123/123\u001b[0m \u001b[32m━━━━━━━━━━━━━━━━━━━━\u001b[0m\u001b[37m\u001b[0m \u001b[1m1s\u001b[0m 8ms/step - accuracy: 0.6399 - loss: 1.5411\n",
      "Epoch 88/100\n",
      "\u001b[1m123/123\u001b[0m \u001b[32m━━━━━━━━━━━━━━━━━━━━\u001b[0m\u001b[37m\u001b[0m \u001b[1m2s\u001b[0m 11ms/step - accuracy: 0.6400 - loss: 1.5257\n",
      "Epoch 89/100\n",
      "\u001b[1m123/123\u001b[0m \u001b[32m━━━━━━━━━━━━━━━━━━━━\u001b[0m\u001b[37m\u001b[0m \u001b[1m1s\u001b[0m 11ms/step - accuracy: 0.6487 - loss: 1.5134\n",
      "Epoch 90/100\n",
      "\u001b[1m123/123\u001b[0m \u001b[32m━━━━━━━━━━━━━━━━━━━━\u001b[0m\u001b[37m\u001b[0m \u001b[1m2s\u001b[0m 8ms/step - accuracy: 0.6456 - loss: 1.5023\n",
      "Epoch 91/100\n",
      "\u001b[1m123/123\u001b[0m \u001b[32m━━━━━━━━━━━━━━━━━━━━\u001b[0m\u001b[37m\u001b[0m \u001b[1m1s\u001b[0m 8ms/step - accuracy: 0.6565 - loss: 1.4566\n",
      "Epoch 92/100\n",
      "\u001b[1m123/123\u001b[0m \u001b[32m━━━━━━━━━━━━━━━━━━━━\u001b[0m\u001b[37m\u001b[0m \u001b[1m1s\u001b[0m 8ms/step - accuracy: 0.6547 - loss: 1.4657\n",
      "Epoch 93/100\n",
      "\u001b[1m123/123\u001b[0m \u001b[32m━━━━━━━━━━━━━━━━━━━━\u001b[0m\u001b[37m\u001b[0m \u001b[1m1s\u001b[0m 8ms/step - accuracy: 0.6644 - loss: 1.4271\n",
      "Epoch 94/100\n",
      "\u001b[1m123/123\u001b[0m \u001b[32m━━━━━━━━━━━━━━━━━━━━\u001b[0m\u001b[37m\u001b[0m \u001b[1m1s\u001b[0m 8ms/step - accuracy: 0.6739 - loss: 1.3842\n",
      "Epoch 95/100\n",
      "\u001b[1m123/123\u001b[0m \u001b[32m━━━━━━━━━━━━━━━━━━━━\u001b[0m\u001b[37m\u001b[0m \u001b[1m1s\u001b[0m 8ms/step - accuracy: 0.6710 - loss: 1.3987\n",
      "Epoch 96/100\n",
      "\u001b[1m123/123\u001b[0m \u001b[32m━━━━━━━━━━━━━━━━━━━━\u001b[0m\u001b[37m\u001b[0m \u001b[1m1s\u001b[0m 8ms/step - accuracy: 0.6756 - loss: 1.3809\n",
      "Epoch 97/100\n",
      "\u001b[1m123/123\u001b[0m \u001b[32m━━━━━━━━━━━━━━━━━━━━\u001b[0m\u001b[37m\u001b[0m \u001b[1m1s\u001b[0m 8ms/step - accuracy: 0.6859 - loss: 1.3412\n",
      "Epoch 98/100\n",
      "\u001b[1m123/123\u001b[0m \u001b[32m━━━━━━━━━━━━━━━━━━━━\u001b[0m\u001b[37m\u001b[0m \u001b[1m1s\u001b[0m 10ms/step - accuracy: 0.6842 - loss: 1.3293\n",
      "Epoch 99/100\n",
      "\u001b[1m123/123\u001b[0m \u001b[32m━━━━━━━━━━━━━━━━━━━━\u001b[0m\u001b[37m\u001b[0m \u001b[1m1s\u001b[0m 11ms/step - accuracy: 0.6911 - loss: 1.3149\n",
      "Epoch 100/100\n",
      "\u001b[1m123/123\u001b[0m \u001b[32m━━━━━━━━━━━━━━━━━━━━\u001b[0m\u001b[37m\u001b[0m \u001b[1m1s\u001b[0m 11ms/step - accuracy: 0.7002 - loss: 1.2737\n"
     ]
    },
    {
     "data": {
      "text/plain": [
       "<keras.src.callbacks.history.History at 0x78631212c110>"
      ]
     },
     "execution_count": 84,
     "metadata": {},
     "output_type": "execute_result"
    }
   ],
   "source": [
    "model=Sequential()\n",
    "model.add(Embedding(vocab_size, 50, input_length=seq_length))\n",
    "model.add(LSTM(50,return_sequences=True))\n",
    "model.add(LSTM(50))\n",
    "model.add(Dense(50,activation='relu'))\n",
    "model.add(Dense(vocab_size,activation='softmax'))\n",
    "print(model.summary())\n",
    "\n",
    "model.compile(loss='categorical_crossentropy',optimizer='adam',metrics=['accuracy'])\n",
    "model.fit(X,y,batch_size=128,epochs=100)"
   ]
  },
  {
   "cell_type": "code",
   "execution_count": null,
   "metadata": {
    "colab": {
     "base_uri": "https://localhost:8080/"
    },
    "executionInfo": {
     "elapsed": 768,
     "status": "ok",
     "timestamp": 1742293440565,
     "user": {
      "displayName": "Phalguna",
      "userId": "04043413094749597201"
     },
     "user_tz": -330
    },
    "id": "OpC09ESFSGVo",
    "outputId": "9e0cf93d-f523-412f-fe29-e26f16902ab5"
   },
   "outputs": [
    {
     "name": "stderr",
     "output_type": "stream",
     "text": [
      "WARNING:absl:You are saving your model as an HDF5 file via `model.save()` or `keras.saving.save_model(model)`. This file format is considered legacy. We recommend using instead the native Keras format, e.g. `model.save('my_model.keras')` or `keras.saving.save_model(model, 'my_model.keras')`. \n"
     ]
    }
   ],
   "source": [
    "model.save('/content/drive/MyDrive/Colab_Notebooks/pred_next_word/model.h5')"
   ]
  },
  {
   "cell_type": "code",
   "execution_count": null,
   "metadata": {
    "id": "QLaOSUgsTN00"
   },
   "outputs": [],
   "source": [
    "dump(tokenizer,open('/content/drive/MyDrive/Colab_Notebooks/pred_next_word/tokenizer.pkl','wb'))"
   ]
  },
  {
   "cell_type": "code",
   "execution_count": null,
   "metadata": {
    "id": "B7oPlcB1TWxX"
   },
   "outputs": [],
   "source": [
    "import numpy as np\n",
    "\n",
    "def generate_seq(model,tokenizer,seq_length,seed_text,n_words):\n",
    "  result=list()\n",
    "  in_text=seed_text\n",
    "  for _ in range(n_words):\n",
    "    encoded=tokenizer.texts_to_sequences([in_text])[0]\n",
    "    encoded=pad_sequences([encoded],maxlen=seq_length,truncating='pre')\n",
    "    #yhat=model.predict_classes(encoded)\n",
    "    predict_x=model.predict(encoded)\n",
    "    yhat=np.argmax(predict_x,axis=1)\n",
    "    out_word=''\n",
    "    for word,index in tokenizer.word_index.items():\n",
    "      if index==yhat:\n",
    "        out_word=word\n",
    "        break\n",
    "    in_text+=' '+out_word\n",
    "    result.append(out_word)\n",
    "  return ' '.join(result)\n"
   ]
  },
  {
   "cell_type": "code",
   "execution_count": null,
   "metadata": {
    "colab": {
     "base_uri": "https://localhost:8080/"
    },
    "executionInfo": {
     "elapsed": 13,
     "status": "ok",
     "timestamp": 1742293440602,
     "user": {
      "displayName": "Phalguna",
      "userId": "04043413094749597201"
     },
     "user_tz": -330
    },
    "id": "s5bBLYrUT91A",
    "outputId": "d92827c6-5549-4499-893d-a1852b4863c0"
   },
   "outputs": [
    {
     "name": "stdout",
     "output_type": "stream",
     "text": [
      "15741\n",
      "this ebook is for the use\n"
     ]
    }
   ],
   "source": [
    "in_filename='/content/drive/MyDrive/Colab_Notebooks/pred_next_word/republic_sequences.txt'\n",
    "doc=load_doc(in_filename)\n",
    "lines=doc.split('\\n')\n",
    "seq_length=len(lines[0].split())-1\n",
    "\n",
    "print(len(lines))\n",
    "print(lines[0])"
   ]
  },
  {
   "cell_type": "code",
   "execution_count": null,
   "metadata": {
    "colab": {
     "base_uri": "https://localhost:8080/"
    },
    "executionInfo": {
     "elapsed": 1184,
     "status": "ok",
     "timestamp": 1742293441787,
     "user": {
      "displayName": "Phalguna",
      "userId": "04043413094749597201"
     },
     "user_tz": -330
    },
    "id": "uBYJEFihUSuk",
    "outputId": "b3d30039-f9dd-4ca5-fda0-e8a6b9470947"
   },
   "outputs": [
    {
     "name": "stderr",
     "output_type": "stream",
     "text": [
      "WARNING:absl:Compiled the loaded model, but the compiled metrics have yet to be built. `model.compile_metrics` will be empty until you train or evaluate the model.\n"
     ]
    },
    {
     "name": "stdout",
     "output_type": "stream",
     "text": [
      "that s what it is forty\n",
      "\n",
      "\u001b[1m1/1\u001b[0m \u001b[32m━━━━━━━━━━━━━━━━━━━━\u001b[0m\u001b[37m\u001b[0m \u001b[1m0s\u001b[0m 196ms/step\n",
      "\u001b[1m1/1\u001b[0m \u001b[32m━━━━━━━━━━━━━━━━━━━━\u001b[0m\u001b[37m\u001b[0m \u001b[1m0s\u001b[0m 30ms/step\n",
      "\u001b[1m1/1\u001b[0m \u001b[32m━━━━━━━━━━━━━━━━━━━━\u001b[0m\u001b[37m\u001b[0m \u001b[1m0s\u001b[0m 28ms/step\n",
      "\u001b[1m1/1\u001b[0m \u001b[32m━━━━━━━━━━━━━━━━━━━━\u001b[0m\u001b[37m\u001b[0m \u001b[1m0s\u001b[0m 28ms/step\n",
      "\u001b[1m1/1\u001b[0m \u001b[32m━━━━━━━━━━━━━━━━━━━━\u001b[0m\u001b[37m\u001b[0m \u001b[1m0s\u001b[0m 28ms/step\n",
      "\u001b[1m1/1\u001b[0m \u001b[32m━━━━━━━━━━━━━━━━━━━━\u001b[0m\u001b[37m\u001b[0m \u001b[1m0s\u001b[0m 28ms/step\n",
      "\u001b[1m1/1\u001b[0m \u001b[32m━━━━━━━━━━━━━━━━━━━━\u001b[0m\u001b[37m\u001b[0m \u001b[1m0s\u001b[0m 28ms/step\n",
      "\u001b[1m1/1\u001b[0m \u001b[32m━━━━━━━━━━━━━━━━━━━━\u001b[0m\u001b[37m\u001b[0m \u001b[1m0s\u001b[0m 28ms/step\n",
      "\u001b[1m1/1\u001b[0m \u001b[32m━━━━━━━━━━━━━━━━━━━━\u001b[0m\u001b[37m\u001b[0m \u001b[1m0s\u001b[0m 29ms/step\n",
      "\u001b[1m1/1\u001b[0m \u001b[32m━━━━━━━━━━━━━━━━━━━━\u001b[0m\u001b[37m\u001b[0m \u001b[1m0s\u001b[0m 28ms/step\n",
      "\u001b[1m1/1\u001b[0m \u001b[32m━━━━━━━━━━━━━━━━━━━━\u001b[0m\u001b[37m\u001b[0m \u001b[1m0s\u001b[0m 29ms/step\n",
      "\u001b[1m1/1\u001b[0m \u001b[32m━━━━━━━━━━━━━━━━━━━━\u001b[0m\u001b[37m\u001b[0m \u001b[1m0s\u001b[0m 28ms/step\n",
      "times how get it see what tricks hookey of the window and\n"
     ]
    }
   ],
   "source": [
    "model=load_model('/content/drive/MyDrive/Colab_Notebooks/pred_next_word/model.h5')\n",
    "tokenizer=load(open('/content/drive/MyDrive/Colab_Notebooks/pred_next_word/tokenizer.pkl','rb'))\n",
    "seed_text=lines[randint(0,len(lines))]\n",
    "print(seed_text + '\\n')\n",
    "generated=generate_seq(model,tokenizer,seq_length,seed_text,12)\n",
    "print(generated)"
   ]
  },
  {
   "cell_type": "code",
   "execution_count": null,
   "metadata": {
    "colab": {
     "base_uri": "https://localhost:8080/"
    },
    "executionInfo": {
     "elapsed": 72,
     "status": "ok",
     "timestamp": 1742293807459,
     "user": {
      "displayName": "Phalguna",
      "userId": "04043413094749597201"
     },
     "user_tz": -330
    },
    "id": "F65Go1qvUucF",
    "outputId": "b033bcca-87d8-41f5-f103-a437044a8933"
   },
   "outputs": [
    {
     "name": "stdout",
     "output_type": "stream",
     "text": [
      "\u001b[1m1/1\u001b[0m \u001b[32m━━━━━━━━━━━━━━━━━━━━\u001b[0m\u001b[37m\u001b[0m \u001b[1m0s\u001b[0m 30ms/step\n",
      "jeers\n"
     ]
    }
   ],
   "source": [
    "tt=\"To which Tom responded with\"\n",
    "seq_length=len(tt.split())\n",
    "\n",
    "generated=generate_seq(model,tokenizer,seq_length,tt,1)\n",
    "print(generated)"
   ]
  },
  {
   "cell_type": "code",
   "execution_count": null,
   "metadata": {
    "id": "Bu63mmXIaQr6"
   },
   "outputs": [],
   "source": []
  }
 ],
 "metadata": {
  "accelerator": "GPU",
  "colab": {
   "authorship_tag": "ABX9TyPW6WPUZqdd94VtJ/BtDeKT",
   "gpuType": "T4",
   "provenance": []
  },
  "kernelspec": {
   "display_name": "Python 3",
   "name": "python3"
  },
  "language_info": {
   "name": "python"
  }
 },
 "nbformat": 4,
 "nbformat_minor": 0
}
